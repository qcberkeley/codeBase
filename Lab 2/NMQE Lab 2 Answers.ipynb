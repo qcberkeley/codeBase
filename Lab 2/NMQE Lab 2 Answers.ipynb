{
 "cells": [
  {
   "cell_type": "markdown",
   "id": "44932bd7",
   "metadata": {},
   "source": [
    "# Lab 2: Entanglement\n",
    "### Review:\n",
    "So far, we've learned how to use qubits to represent bits by giving them dentermined values. We've alterted these qubits using gates such as the NOT (.x), CNOT (.cx), and Toffoli (.ccx). \n",
    "\n",
    "Most recently, we've discoved how qubits can be represented using complex amplitudes, with split probabilities of being in one of two states by acting the Haddamard (.h) gate on them.\n",
    "\n",
    "In this lab, we will introduce the concept of entanglement, from a physical and computational standpoint. We will then explore some interesting qualities of entanglement by running code on a real quantum computer!"
   ]
  },
  {
   "cell_type": "markdown",
   "id": "ae4acb80",
   "metadata": {},
   "source": [
    "## 2.1 What is Entanglement?\n",
    "\n",
    "In the physical world, particles are described by their mass, electric charge, and spin. Heavily charged particles act strong electrostatic forces on other charges, massive particles have a analagous effect in the gravitational field. Interestingly, spin is different -- it is quantized into positive and negative states, for example the electron can have spin +1/2 or spin -1/2. Spin, unlike mass or charge, also follows the probablitic nature of quantum mechanics. This means that when you measure a particle's spin you get either the positive or negative value with some probability that is, surprisingly, determined by the kind of measurement. \n",
    "\n",
    "For example, if we set the orientation of an electron's spin in the positive vertical direction, so that its spin is up, then we measure it in the positive horizontal direction, the spin will actually be measured with a 50% proability of being oreinted right and 50% left. If we again initiate the electron with postive verticle spin, then tilt our angle of measurement to say, 60 degrees from the verticle, our particle will now be measured 75% spin in the direction of measurement and 25% in the opposite direction. An irrelevent but intertesting observation is that the probability of spin in the direction of measurement is equal to $\\cos^{2}(\\theta/2)$, for $\\theta$ degrees from the horizontal.\n",
    "\n",
    "Let's conduct a thought experiment. Suppose we create two photons using Einstein's energy-mass relation. By conservation of angular momentum, the sum of the particles' spins must be zero, thus they must be equal and opposite. This is the experiement Einstein proposed in the 1930s to prove his mathematical derivation of entanglement. The particles are entangled because if we measure one in some orientation, the other particle must have the opposite orientation. We will 'simulate' this experiment at the end of this lab!"
   ]
  },
  {
   "cell_type": "markdown",
   "id": "544fb04a",
   "metadata": {},
   "source": [
    "## 2.2 Entangled Qubits\n",
    "Let's explore the similarities between entangled particles and entangled qubits. "
   ]
  },
  {
   "cell_type": "code",
   "execution_count": 1,
   "id": "fcb2beeb",
   "metadata": {},
   "outputs": [
    {
     "name": "stdout",
     "output_type": "stream",
     "text": [
      "Requirement already satisfied: qiskit in /opt/conda/lib/python3.9/site-packages (0.34.2)\n",
      "Requirement already satisfied: qiskit-terra==0.19.2 in /opt/conda/lib/python3.9/site-packages (from qiskit) (0.19.2)\n",
      "Requirement already satisfied: qiskit-aer==0.10.3 in /opt/conda/lib/python3.9/site-packages (from qiskit) (0.10.3)\n",
      "Requirement already satisfied: qiskit-ibmq-provider==0.18.3 in /opt/conda/lib/python3.9/site-packages (from qiskit) (0.18.3)\n",
      "Requirement already satisfied: qiskit-ignis==0.7.0 in /opt/conda/lib/python3.9/site-packages (from qiskit) (0.7.0)\n",
      "Requirement already satisfied: dill>=0.3 in /opt/conda/lib/python3.9/site-packages (from qiskit-terra==0.19.2->qiskit) (0.3.4)\n",
      "Requirement already satisfied: sympy>=1.3 in /opt/conda/lib/python3.9/site-packages (from qiskit-terra==0.19.2->qiskit) (1.8)\n",
      "Requirement already satisfied: retworkx>=0.10.1 in /opt/conda/lib/python3.9/site-packages (from qiskit-terra==0.19.2->qiskit) (0.11.0)\n",
      "Requirement already satisfied: stevedore>=3.0.0 in /opt/conda/lib/python3.9/site-packages (from qiskit-terra==0.19.2->qiskit) (3.5.0)\n",
      "Requirement already satisfied: python-constraint>=1.4 in /opt/conda/lib/python3.9/site-packages (from qiskit-terra==0.19.2->qiskit) (1.4.0)\n",
      "Requirement already satisfied: ply>=3.10 in /opt/conda/lib/python3.9/site-packages (from qiskit-terra==0.19.2->qiskit) (3.11)\n",
      "Requirement already satisfied: symengine>=0.8; platform_machine == \"x86_64\" or platform_machine == \"aarch64\" or platform_machine == \"ppc64le\" or platform_machine == \"amd64\" or platform_machine == \"arm64\" in /opt/conda/lib/python3.9/site-packages (from qiskit-terra==0.19.2->qiskit) (0.9.0)\n",
      "Requirement already satisfied: tweedledum<2.0,>=1.1 in /opt/conda/lib/python3.9/site-packages (from qiskit-terra==0.19.2->qiskit) (1.1.1)\n",
      "Requirement already satisfied: python-dateutil>=2.8.0 in /opt/conda/lib/python3.9/site-packages (from qiskit-terra==0.19.2->qiskit) (2.8.0)\n",
      "Requirement already satisfied: psutil>=5 in /opt/conda/lib/python3.9/site-packages (from qiskit-terra==0.19.2->qiskit) (5.9.0)\n",
      "Requirement already satisfied: scipy>=1.5 in /opt/conda/lib/python3.9/site-packages (from qiskit-terra==0.19.2->qiskit) (1.7.3)\n",
      "Requirement already satisfied: numpy>=1.17 in /opt/conda/lib/python3.9/site-packages (from qiskit-terra==0.19.2->qiskit) (1.21.5)\n",
      "Requirement already satisfied: urllib3>=1.21.1 in /opt/conda/lib/python3.9/site-packages (from qiskit-ibmq-provider==0.18.3->qiskit) (1.25.7)\n",
      "Requirement already satisfied: requests>=2.19 in /opt/conda/lib/python3.9/site-packages (from qiskit-ibmq-provider==0.18.3->qiskit) (2.26.0)\n",
      "Requirement already satisfied: websocket-client>=1.0.1 in /opt/conda/lib/python3.9/site-packages (from qiskit-ibmq-provider==0.18.3->qiskit) (1.2.3)\n",
      "Requirement already satisfied: requests-ntlm>=1.1.0 in /opt/conda/lib/python3.9/site-packages (from qiskit-ibmq-provider==0.18.3->qiskit) (1.1.0)\n",
      "Requirement already satisfied: setuptools>=40.1.0 in /opt/conda/lib/python3.9/site-packages (from qiskit-ignis==0.7.0->qiskit) (58.2.0)\n",
      "Requirement already satisfied: mpmath>=0.19 in /opt/conda/lib/python3.9/site-packages (from sympy>=1.3->qiskit-terra==0.19.2->qiskit) (1.2.1)\n",
      "Requirement already satisfied: pbr!=2.1.0,>=2.0.0 in /opt/conda/lib/python3.9/site-packages (from stevedore>=3.0.0->qiskit-terra==0.19.2->qiskit) (5.8.1)\n",
      "Requirement already satisfied: six>=1.5 in /opt/conda/lib/python3.9/site-packages (from python-dateutil>=2.8.0->qiskit-terra==0.19.2->qiskit) (1.16.0)\n",
      "Requirement already satisfied: certifi>=2017.4.17 in /opt/conda/lib/python3.9/site-packages (from requests>=2.19->qiskit-ibmq-provider==0.18.3->qiskit) (2019.11.28)\n",
      "Requirement already satisfied: charset-normalizer~=2.0.0; python_version >= \"3\" in /opt/conda/lib/python3.9/site-packages (from requests>=2.19->qiskit-ibmq-provider==0.18.3->qiskit) (2.0.0)\n",
      "Requirement already satisfied: idna<4,>=2.5; python_version >= \"3\" in /opt/conda/lib/python3.9/site-packages (from requests>=2.19->qiskit-ibmq-provider==0.18.3->qiskit) (2.8)\n",
      "Requirement already satisfied: ntlm-auth>=1.0.2 in /opt/conda/lib/python3.9/site-packages (from requests-ntlm>=1.1.0->qiskit-ibmq-provider==0.18.3->qiskit) (1.5.0)\n",
      "Requirement already satisfied: cryptography>=1.3 in /opt/conda/lib/python3.9/site-packages (from requests-ntlm>=1.1.0->qiskit-ibmq-provider==0.18.3->qiskit) (3.4.8)\n",
      "Requirement already satisfied: cffi>=1.12 in /opt/conda/lib/python3.9/site-packages (from cryptography>=1.3->requests-ntlm>=1.1.0->qiskit-ibmq-provider==0.18.3->qiskit) (1.14.6)\n",
      "Requirement already satisfied: pycparser in /opt/conda/lib/python3.9/site-packages (from cffi>=1.12->cryptography>=1.3->requests-ntlm>=1.1.0->qiskit-ibmq-provider==0.18.3->qiskit) (2.20)\n",
      "Requirement already satisfied: pylatexenc in /opt/conda/lib/python3.9/site-packages (2.10)\n"
     ]
    }
   ],
   "source": [
    "!pip install qiskit\n",
    "!pip install pylatexenc"
   ]
  },
  {
   "cell_type": "code",
   "execution_count": 2,
   "id": "fa167d19",
   "metadata": {},
   "outputs": [],
   "source": [
    "from qiskit import QuantumCircuit, assemble, Aer\n",
    "from qiskit.visualization import plot_histogram"
   ]
  },
  {
   "cell_type": "code",
   "execution_count": 3,
   "id": "e82a6f16",
   "metadata": {
    "scrolled": true
   },
   "outputs": [
    {
     "data": {
      "image/png": "[encoded data removed]",
      "text/plain": [
       "<Figure size 146.652x144.48 with 1 Axes>"
      ]
     },
     "execution_count": 3,
     "metadata": {},
     "output_type": "execute_result"
    }
   ],
   "source": [
    "#Recall the H gate\n",
    "qc=QuantumCircuit(2)\n",
    "qc.h(0)\n",
    "qc.draw(output='mpl')"
   ]
  },
  {
   "cell_type": "markdown",
   "id": "4df01c68",
   "metadata": {},
   "source": [
    "Like we saw with the CNOT gate last lecture, we can represent this circuit with a tensor product. Let's try for practice.\n",
    "\n",
    "$|0⟩ \\otimes H|0⟩ = |0⟩ \\otimes |+⟩ = |0⟩ \\otimes (\\frac{1}{ \\sqrt{2}}|0⟩ + \\frac{1}{ \\sqrt{2}}|1⟩) $\n",
    "$= \\frac{1}{ \\sqrt{2}}|0⟩ \\otimes |0⟩ + \\frac{1}{ \\sqrt{2}}|0⟩ \\otimes |1⟩ = \\frac{1}{ \\sqrt{2}} (|00⟩ + |01⟩) = \\frac{1}{ \\sqrt{2}} \\begin{bmatrix}1 \\\\ 1 \\\\ 0 \\\\ 0 \\end{bmatrix} $\n",
    "\n",
    "Qiskit actually has built in functions to check our work!"
   ]
  },
  {
   "cell_type": "code",
   "execution_count": 4,
   "id": "e486ab59",
   "metadata": {},
   "outputs": [
    {
     "data": {
      "text/latex": [
       "$$\n",
       "\\text{Statevector} = \n",
       "\\begin{bmatrix}\n",
       "\\tfrac{1}{\\sqrt{2}} & \\tfrac{1}{\\sqrt{2}} & 0 & 0  \\\\\n",
       " \\end{bmatrix}\n",
       "$$"
      ],
      "text/plain": [
       "<IPython.core.display.Latex object>"
      ]
     },
     "execution_count": 4,
     "metadata": {},
     "output_type": "execute_result"
    }
   ],
   "source": [
    "# Let's see the result\n",
    "svsim = Aer.get_backend('aer_simulator')\n",
    "qc.save_statevector()\n",
    "qobj = assemble(qc)\n",
    "final_state = svsim.run(qobj).result().get_statevector()\n",
    "\n",
    "# In Jupyter Notebooks we can display this nicely using Latex.\n",
    "# If not using Jupyter Notebooks you may need to remove the \n",
    "# array_to_latex function and use print(final_state) instead.\n",
    "from qiskit.visualization import array_to_latex\n",
    "array_to_latex(final_state, prefix=\"\\\\text{Statevector} = \")"
   ]
  },
  {
   "cell_type": "markdown",
   "id": "cfe53577",
   "metadata": {},
   "source": [
    "Voila! Our state is a combination of $\\begin{bmatrix}1 \\\\ 0 \\\\ 0 \\\\ 0 \\end{bmatrix}$\n",
    "and\n",
    "$\\begin{bmatrix}0 \\\\ 1 \\\\ 0 \\\\ 0 \\end{bmatrix}$.\n",
    "\n",
    "The probability of finding our vector in one state or the other is now 50-50, just like our particle with spin, interesting! Let's check this is the case..."
   ]
  },
  {
   "cell_type": "code",
   "execution_count": 5,
   "id": "7c292891",
   "metadata": {},
   "outputs": [
    {
     "data": {
      "image/png": "[encoded data removed]",
      "text/plain": [
       "<Figure size 504x360 with 1 Axes>"
      ]
     },
     "execution_count": 5,
     "metadata": {},
     "output_type": "execute_result"
    }
   ],
   "source": [
    "result = svsim.run(qobj).result()\n",
    "plot_histogram(result.get_counts())"
   ]
  },
  {
   "cell_type": "markdown",
   "id": "75fb5db1",
   "metadata": {},
   "source": [
    "Perfect. Now how do we 'entangle' two 'particles'? \n",
    "What we need is a dependence between the two states. We need one state's measurement to be directly opposite to the other. Recall that the CNOT gate...\n",
    "\n",
    "|Input| | Output| |\n",
    "|---|---|---|---|\n",
    "| Cont. | Targ. | Cont. | Targ. |\n",
    "| 0 | 0 | 0 | 0 |\n",
    "| 0 | 1 | 0 | 1 |\n",
    "| 1 | 0 | 1 | 1 |\n",
    "| 1 | 1 | 1 | 0 |\n",
    "\n",
    "relates two qubits in a similar way, its output tells us whether or not two qubits are identical or not. Let's explore what happens when we act a CNOT gate on a qubit in superposition."
   ]
  },
  {
   "cell_type": "code",
   "execution_count": 6,
   "id": "8c3412ba",
   "metadata": {},
   "outputs": [
    {
     "data": {
      "image/png": "[encoded data removed]",
      "text/plain": [
       "<Figure size 206.852x144.48 with 1 Axes>"
      ]
     },
     "execution_count": 6,
     "metadata": {},
     "output_type": "execute_result"
    }
   ],
   "source": [
    "qc = QuantumCircuit(2)\n",
    "# Apply H-gate to the first:\n",
    "qc.h(0)\n",
    "# Apply a CNOT:\n",
    "qc.cx(0,1)\n",
    "qc.draw(output='mpl')"
   ]
  },
  {
   "cell_type": "markdown",
   "id": "fc06b971",
   "metadata": {},
   "source": [
    "If we know the target qubit is initially 0, then we measure it to be 1, it implies that the control qubit must have been 1. If the target is initally 0, then we measure it to be 0, the control qubit must have been 0. We can determine the control qubit's state without measuring it, and it is completely probabilistic. This is truly entanglement!\n",
    "\n",
    "But we're physicists, we're intruiged by the deeper meanings of these results, so why don't we explore what happens in the state vectors. Remember from last lecture that the CNOT swaps the amplitudes |01⟩ and |11⟩: \n",
    "\n",
    "$|a⟩ = \\begin{bmatrix}a_{00} \\\\ a_{01} \\\\ a_{10} \\\\ a_{11} \\end{bmatrix}, \\rightarrow CNOT|a⟩ = \\begin{bmatrix}a_{00} \\\\ a_{11} \\\\ a_{10} \\\\ a_{01} \\end{bmatrix}$\n",
    "\n",
    "We can check that this occurs in our circuit:"
   ]
  },
  {
   "cell_type": "code",
   "execution_count": 7,
   "id": "8960bd95",
   "metadata": {},
   "outputs": [
    {
     "data": {
      "text/latex": [
       "$$\n",
       "\\text{Statevector = }\n",
       "\\begin{bmatrix}\n",
       "\\tfrac{1}{\\sqrt{2}} & 0 & 0 & \\tfrac{1}{\\sqrt{2}}  \\\\\n",
       " \\end{bmatrix}\n",
       "$$"
      ],
      "text/plain": [
       "<IPython.core.display.Latex object>"
      ]
     },
     "execution_count": 7,
     "metadata": {},
     "output_type": "execute_result"
    }
   ],
   "source": [
    "# Let's get the result:\n",
    "qc.save_statevector()\n",
    "qobj = assemble(qc)\n",
    "result = svsim.run(qobj).result()\n",
    "# Print the statevector neatly:\n",
    "final_state = result.get_statevector()\n",
    "array_to_latex(final_state, prefix=\"\\\\text{Statevector = }\")"
   ]
  },
  {
   "cell_type": "markdown",
   "id": "6d403cc4",
   "metadata": {},
   "source": [
    "Which can also be written as, \n",
    "\n",
    "$CNOT|0+⟩ = \\frac{1}{ \\sqrt{2}} (|00⟩ + |11⟩)$\n",
    "\n",
    "This is called the **Bell State**, and its entangledness is what makes it incredible, and what gives so muc hpower to the Haddamard gate."
   ]
  },
  {
   "cell_type": "markdown",
   "id": "e72ab1da",
   "metadata": {},
   "source": [
    "## 2.3 Real Quantum Entanglement\n",
    "Finally, let's put our newfound tool to good use, exploring the behavior of real life quantum computers.\n",
    "1. Create an IBM Quantum account or log in to your existing account by visiting the [IBMQ login page](https://quantum-computing.ibm.com/login)\n",
    "\n",
    "2. Copy (and/or optionally regenerate) your API token from your [IBM Quantum account page](https://quantum-computing.ibm.com/account)\n",
    "\n",
    "3. Paste your token below and run the cell"
   ]
  },
  {
   "cell_type": "code",
   "execution_count": 8,
   "id": "cc058b0e",
   "metadata": {},
   "outputs": [
    {
     "name": "stderr",
     "output_type": "stream",
     "text": [
      "configrc.store_credentials:WARNING:2022-03-04 15:51:46,729: Credentials already present. Set overwrite=True to overwrite.\n"
     ]
    }
   ],
   "source": [
    "from qiskit import IBMQ\n",
    "#Save your credentials to your local disk\n",
    "IBMQ.save_account('b356f821052169ff9249cb9504ca0e62ec1f94ccc4fe53ad0133ec5b959f1479c3d0886b0c35f80521d1a8fb561a86c298291a6da0d2cde0586217ab13965b2c')"
   ]
  },
  {
   "cell_type": "code",
   "execution_count": 9,
   "id": "4b397873",
   "metadata": {},
   "outputs": [
    {
     "data": {
      "text/plain": [
       "[<IBMQSimulator('ibmq_qasm_simulator') from IBMQ(hub='ibm-q', group='open', project='main')>,\n",
       " <IBMQBackend('ibmq_armonk') from IBMQ(hub='ibm-q', group='open', project='main')>,\n",
       " <IBMQBackend('ibmq_santiago') from IBMQ(hub='ibm-q', group='open', project='main')>,\n",
       " <IBMQBackend('ibmq_bogota') from IBMQ(hub='ibm-q', group='open', project='main')>,\n",
       " <IBMQBackend('ibmq_lima') from IBMQ(hub='ibm-q', group='open', project='main')>,\n",
       " <IBMQBackend('ibmq_belem') from IBMQ(hub='ibm-q', group='open', project='main')>,\n",
       " <IBMQBackend('ibmq_quito') from IBMQ(hub='ibm-q', group='open', project='main')>,\n",
       " <IBMQSimulator('simulator_statevector') from IBMQ(hub='ibm-q', group='open', project='main')>,\n",
       " <IBMQSimulator('simulator_mps') from IBMQ(hub='ibm-q', group='open', project='main')>,\n",
       " <IBMQSimulator('simulator_extended_stabilizer') from IBMQ(hub='ibm-q', group='open', project='main')>,\n",
       " <IBMQSimulator('simulator_stabilizer') from IBMQ(hub='ibm-q', group='open', project='main')>,\n",
       " <IBMQBackend('ibmq_manila') from IBMQ(hub='ibm-q', group='open', project='main')>]"
      ]
     },
     "execution_count": 9,
     "metadata": {},
     "output_type": "execute_result"
    }
   ],
   "source": [
    "#Now we select a IBMQ backend\n",
    "provider = IBMQ.load_account()\n",
    "provider.backends()"
   ]
  },
  {
   "cell_type": "markdown",
   "id": "7a1427e2",
   "metadata": {},
   "source": [
    "These are the different IBM QCs we can use! All except the ibmq_qasm_simulator are real. Other companies like IonQ provide their own backends (QCs) that we can use too. We'll get more into them later in the course. For now select the Lima QC."
   ]
  },
  {
   "cell_type": "code",
   "execution_count": 10,
   "id": "6dc190ae",
   "metadata": {},
   "outputs": [
    {
     "data": {
      "text/plain": [
       "<IBMQBackend('ibmq_lima') from IBMQ(hub='ibm-q', group='open', project='main')>"
      ]
     },
     "execution_count": 10,
     "metadata": {},
     "output_type": "execute_result"
    }
   ],
   "source": [
    "backend = provider.get_backend('ibmq_lima')\n",
    "backend"
   ]
  },
  {
   "cell_type": "code",
   "execution_count": null,
   "id": "321594ca",
   "metadata": {},
   "outputs": [
    {
     "name": "stdout",
     "output_type": "stream",
     "text": [
      "Job status is JobStatus.VALIDATING\n",
      "Job status is JobStatus.QUEUED\n",
      "Job status is JobStatus.QUEUED\n",
      "Job status is JobStatus.QUEUED\n",
      "Job status is JobStatus.QUEUED\n",
      "Job status is JobStatus.QUEUED\n",
      "Job status is JobStatus.QUEUED\n",
      "Job status is JobStatus.QUEUED\n",
      "Job status is JobStatus.QUEUED\n",
      "Job status is JobStatus.QUEUED\n"
     ]
    }
   ],
   "source": [
    "from qiskit import execute\n",
    "\n",
    "qc = QuantumCircuit(2)\n",
    "qc.h(0)\n",
    "qc.cx(0,1)\n",
    "qc.draw(output='mpl')\n",
    "\n",
    "job = execute(qc, backend)  #get the job objecct\n",
    "\n",
    "# check if job is complete\n",
    "from qiskit.providers.jobstatus import JobStatus\n",
    "import time\n",
    "while job.status() is not JobStatus.DONE:\n",
    "    print(\"Job status is\", job.status() )\n",
    "    time.sleep(60)\n",
    "    \n",
    "result = job.result() # get result object\n",
    "counts = result.get_counts() #get the counts dictionary\n",
    "plot_histogram(counts) #plot the histogram of the counts "
   ]
  },
  {
   "cell_type": "markdown",
   "id": "a8756f5c",
   "metadata": {},
   "source": [
    "## 2.4 Backend Resources"
   ]
  },
  {
   "cell_type": "markdown",
   "id": "3b30a3f7",
   "metadata": {},
   "source": [
    "Below is an example of how to filter backends, where we filter for number of qubits, and remove simulators:"
   ]
  },
  {
   "cell_type": "code",
   "execution_count": null,
   "id": "215fe518",
   "metadata": {},
   "outputs": [],
   "source": [
    "backends = provider.backends(filters = lambda x:x.configuration().n_qubits >= 2 and not x.configuration().simulator\n",
    "                             and x.status().operational==True)\n",
    "backends"
   ]
  },
  {
   "cell_type": "markdown",
   "id": "82e23403",
   "metadata": {},
   "source": [
    "One convenient way to choose a system is using the least_busy function to get the backend with the lowest number of jobs in queue. The downside is that the result might have relatively poor accuracy because, not surprisingly, the lowest error rate systems are the most popular."
   ]
  },
  {
   "cell_type": "code",
   "execution_count": null,
   "id": "678ecf75",
   "metadata": {},
   "outputs": [],
   "source": [
    "from qiskit.providers.ibmq import least_busy\n",
    "backend = least_busy(provider.backends(filters=lambda x: x.configuration().n_qubits >= 2 and \n",
    "                                        not x.configuration().simulator and x.status().operational==True))\n",
    "backend"
   ]
  },
  {
   "cell_type": "code",
   "execution_count": null,
   "id": "57b76863",
   "metadata": {},
   "outputs": [],
   "source": []
  }
 ],
 "metadata": {
  "kernelspec": {
   "display_name": "Python 3 (ipykernel)",
   "language": "python",
   "name": "python3"
  },
  "language_info": {
   "codemirror_mode": {
    "name": "ipython",
    "version": 3
   },
   "file_extension": ".py",
   "mimetype": "text/x-python",
   "name": "python",
   "nbconvert_exporter": "python",
   "pygments_lexer": "ipython3",
   "version": "3.9.12"
  }
 },
 "nbformat": 4,
 "nbformat_minor": 5
}
