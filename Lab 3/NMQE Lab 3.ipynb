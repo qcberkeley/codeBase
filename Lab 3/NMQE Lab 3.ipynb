{
 "cells": [
  {
   "cell_type": "markdown",
   "id": "a030aa64",
   "metadata": {},
   "source": [
    "## Lab 3: Algorithm Development\n",
    "This lab builds upon the previous lesson on Deutsch's Algorithm. We will apply this concept to a problem introduced by an Richard Jozsa, appropriately called the Deutsch-Joza problem, which involves determining whether a function of N binary inputs is constant (returns 0 or 1) or balanced (is capable of returning both 0 and 1). The DJ solution reduces run time not by 1/2 as we have seen in the single input problem, but by an exponential factor, exhibiting the power of quantum computing. \n",
    "\n",
    "Instead of iterating through 2<sup>N</sup> different inputs to determine the behavior of some function $$f : \\{0,1\\}^N \\rightarrow \\{0,1\\}$$ The solution, DJ's algorithm, only needs 2 evaluations. Later imporvements by Cleve et al. produced an algorithm that only needs 1. Regardless, a constant number of evaluations is the best complexity we can hope for."
   ]
  },
  {
   "cell_type": "markdown",
   "id": "c912102a",
   "metadata": {},
   "source": [
    "### 3.1 The Classical Solution\n",
    "The DJ problem was intentionally designed to be challenging for a classical computer, but simple for a quantum one. Lets first observe the runtime of a classical solution.\n",
    "\n",
    "In a best case scenerio, we can evaluate the function on two different parameters, and we get an output of 0, and 1, respectfully: $f(0,0,0,...) \\rightarrow 0$ and $f(1,0,0,...) \\rightarrow 1$ This implies the function is balanced, and we are done.\n",
    "\n",
    "However, in the worst case we need to evaluate $$f(0,0,0,...), f(1,0,0,...), f(0,1,0,...)... etc.$$ to determine whether $f$ is constant. The total possible inputs is 2<sup>N</sup>, so we would have to trial 2<sup>N</sup> + 1 times. \n",
    "\n",
    "On average, we need to try half of all possible inputs to get a differing solution, implying a balanced function. But this is still $\\frac{2^N}{2}=2^{N-1}$ trials. This is impracticle for very large N."
   ]
  },
  {
   "cell_type": "markdown",
   "id": "145c44a5",
   "metadata": {},
   "source": [
    "### 3.2 The Quantum Solution\n",
    "\n",
    "This problem can be solved by a quantum computer in 1 call to $f(x)$, if we implement $f$ as an quantum oracle that maps states $|x⟩|y⟩ \\rightarrow |x⟩|y \\oplus f(x)⟩$.\n",
    "\n",
    "Here, $\\oplus$ is the addition modulo 2 opporator. I.e. the XOR opperation we learned early on in this course.\n",
    "\n",
    "$$|x⟩\\oplus|y⟩ = \\left\\{\n",
    "                \\begin{array}{ll}\n",
    "                    0 & \\mbox{if } x = 0, y = 0 \\\\\n",
    "                    1 & \\mbox{if } x = 0, y = 1\\\\\n",
    "                    1 & \\mbox{if } x = 1, y = 0\\\\\n",
    "                    0 & \\mbox{if } x = 1, y = 1\\\\\n",
    "                \\end{array}\n",
    "                \\right.\n",
    "$$\n",
    "\n",
    "$$\n",
    "               = \\left\\{\n",
    "                \\begin{array}{ll}\n",
    "                    0 & \\mbox{if } x = y \\\\\n",
    "                    1 & \\mbox{if } x \\neq y\\\\\n",
    "                \\end{array}\n",
    "                \\right.\n",
    "$$"
   ]
  },
  {
   "cell_type": "markdown",
   "id": "e6bed47f",
   "metadata": {},
   "source": [
    "Here is a typical implementation of the algorithm. Let's go through it for insight.\n",
    "\n",
    "![typical Deutsch-Jozsa implementation](DJ.png)\n",
    "\n",
    "1. Initialize two registers. The first containing a state of $N$-qubits prepared to $|0⟩$. The second prepared to $|1⟩$. Our overall circuit state is $$|\\psi_0⟩=|0⟩^{\\otimes N} |1⟩$$\n",
    "\n",
    "2. Apply a Hadamard gate to each qubit in both registers. This puts the inputs in an equal superposition of all possible states. We do this to engage an interesting phenomanoa of, but not limited to, balanced oracles: phase kickback. $$|\\psi_1⟩=|+⟩^{\\otimes N}|1⟩=\\frac{1}{\\sqrt{2^{N+1}}}\\sum_{x=0}^{2^N-1}|x⟩(|0⟩-|1⟩)$$\n",
    "\n",
    "3. Apply the quantum oracle $|x⟩|y⟩$ to $|x⟩|y \\oplus f(x)⟩$:\n",
    "$$|\\psi_2⟩=\\frac{1}{\\sqrt{2^{N+1}}}\\sum_{x=0}^{2^N-1}|x⟩(|f(x)⟩-|1\\oplus f(x)⟩)$$\n",
    "$$=\\frac{1}{\\sqrt{2^{N+1}}}\\sum_{x=0}^{2^N-1}(-1)^{f(x)}|x⟩(|0⟩-|1⟩)$$\n",
    "\n",
    "Here, the math gets tricky. To avoid confusion, let us detour to get a deeper understanding of oracles. "
   ]
  },
  {
   "cell_type": "markdown",
   "id": "5402fbed",
   "metadata": {},
   "source": [
    "### 3.2.1 Quantum Oracles\n",
    "Thus far, the math is likely too complicated to understand off the bat, and the idea of a quantum oracle is still very hand-wavy. Let's consider two types of oracles to get a better understanding.\n",
    "\n",
    "The two oracles we must understand for this problem are the constant and balanced oracles.\n",
    "\n",
    "- Constant Oracle: If the oracle $f(x)$ is constant, it has no effect on the input qubits. You can imagine the oracle doesn't even consider the input, it simply has an output 0 or 1.\n",
    "\n",
    "- Balanced Oracle: The balanced oracle is more interesting. It leverages what's called the phase kickback. Consider what happens if we run a balanced oracle $U_f$ on the input $|x⟩|-⟩$:\n",
    "\n",
    "$$|\\psi⟩=U_f|x⟩|-⟩=\\frac{1}{\\sqrt{2}}(U_f|x⟩|0⟩-U_f|x⟩|1⟩)=\\frac{1}{\\sqrt{2}}(|x⟩|f(x)⟩-|x⟩|1 \\oplus f(x)⟩)=|x⟩\\otimes \\frac{1}{\\sqrt{2}}(|f(x)⟩-|1 \\oplus f(x)⟩).\n",
    "$$\n",
    "Now, either $f(x)=0$, or $f(x)=1$. If $f(x)=0$,\n",
    "$$\n",
    "|\\psi⟩=|x⟩\\otimes \\frac{1}{\\sqrt{2}}(|0⟩-|1⟩)=|x⟩|-⟩\n",
    "$$\n",
    "This input is unchanged.\n",
    "If $f(x)=1$,\n",
    "$$|\\psi⟩=|x⟩\\otimes \\frac{1}{\\sqrt{2}}(|1⟩-|0⟩)=-|x⟩|-⟩$$\n",
    "There is a phase factor of -1!\n",
    "\n",
    "We can summarize both cases into a single equation:\n",
    "$$U_f|x⟩|-⟩=(-1)^{f(x)}|x⟩|-⟩$$\n",
    "\n",
    "We can use this to simplify $|\\psi_3⟩$ to \n",
    "$$|\\psi_3⟩=|x⟩\\otimes \\frac{1}{\\sqrt{2}}(|0⟩-|1⟩)=\\frac{1}{\\sqrt{2^{N+1}}}\\sum_{x=0}^{2^N-1}(-1)^{f(x)}|x⟩|-⟩$$\n",
    "This trick is commonly used in quantum algorithms. Now back to DJ!"
   ]
  },
  {
   "cell_type": "markdown",
   "id": "049befc2",
   "metadata": {},
   "source": [
    "4. Apply a Hadamard gate to every qubit in the first register. The intuition behind this step is that the Hadamard is its own inverse, so applying it either returns our initial qunatum state if the oracle is constant, or a state orthogonal to the input in the case that the oracle is balanced due to phase kickback. \n",
    "\n",
    "Acting a balanced oracle to a state of N qubits negates half of them. This orthogonality between the input and output states implies that if our $f(x)$ is balanced we will *never* measure the all-zero state.\n",
    "\n",
    "$$|\\psi_3⟩=\\frac{1}{\\sqrt{2^{N+1}}}\\sum_{x=0}^{2^N-1}(-1)^{f(x)}H^{\\otimes N}|x⟩|-⟩=\\frac{1}{2^N}\\sum_{x=0}^{2^N-1}(-1)^{f(x)} \\left[ \\sum_{y=0}^{2^N-1}(-1)^{x\\cdot y}|y⟩\\right]$$\n",
    "$$=\\frac{1}{2^N}\\sum_{y=0}^{2^N-1}(-1)^{f(x)} \\left[ \\sum_{x=0}^{2^N-1}(-1)^{f(x)}(-1)^{x\\cdot y}\\right]|y⟩$$\n",
    "\n",
    "Here we introduce the binary equivalent of the dot product, the bitwise product $x \\cdot y = x_0y_0 \\oplus x_1y_1 \\oplus ... \\oplus x_{N-1}y_{N-1}$\n",
    "\n",
    "A visual representation:\n",
    "\n",
    "\n",
    "5. Finally we measure the first register. Now, the probability of measuring $|0⟩^{\\otimes N}$ is $P(|0⟩^{\\otimes N})=|\\frac{1}{2^N}\\sum_{x=0}^{2^N-1}(-1)^{f(x)}|^2 = \\left\\{\n",
    "                \\begin{array}{ll}\n",
    "                    1 & \\mbox{if } f(x) \\mbox{ is constant}  \\\\\n",
    "                    0 & \\mbox{if } f(x) \\mbox { is balanced} \\\\\n",
    "                \\end{array}\n",
    "                \\right.$"
   ]
  },
  {
   "cell_type": "markdown",
   "id": "95af10ab",
   "metadata": {},
   "source": [
    "### 3.3 Algorithm Tools\n",
    "\n",
    "Often, implementing a quantum algorithm involves abstracting away much of the math (as seen above) into gates that perform equivalent operations. Lets practice creating a quantum oracle in Qiskit.\n",
    "\n",
    "There are two balanced functions, $f=0$ and $f=1$. they simply require you to do nothing or apply an $X$ gate, repectively. A far more interesting oracle is a balanced one. For example, if we implement the XOR logic gate using the CNOT gate, we can get 0 or 1 based on the two inputs, as we have already explored. Let's simply wrap a series of CNOT gates in an oracle for practice:"
   ]
  },
  {
   "cell_type": "code",
   "execution_count": 2,
   "id": "d8c4766f",
   "metadata": {},
   "outputs": [
    {
     "name": "stdout",
     "output_type": "stream",
     "text": [
      "Requirement already satisfied: qiskit in /opt/conda/lib/python3.9/site-packages (0.35.0)\n",
      "Requirement already satisfied: qiskit-terra==0.20.0 in /opt/conda/lib/python3.9/site-packages (from qiskit) (0.20.0)\n",
      "Requirement already satisfied: qiskit-ibmq-provider==0.18.3 in /opt/conda/lib/python3.9/site-packages (from qiskit) (0.18.3)\n",
      "Requirement already satisfied: qiskit-aer==0.10.3 in /opt/conda/lib/python3.9/site-packages (from qiskit) (0.10.3)\n",
      "Requirement already satisfied: qiskit-ignis==0.7.0 in /opt/conda/lib/python3.9/site-packages (from qiskit) (0.7.0)\n",
      "Requirement already satisfied: python-constraint>=1.4 in /opt/conda/lib/python3.9/site-packages (from qiskit-terra==0.20.0->qiskit) (1.4.0)\n",
      "Requirement already satisfied: symengine>=0.9; platform_machine == \"x86_64\" or platform_machine == \"aarch64\" or platform_machine == \"ppc64le\" or platform_machine == \"amd64\" or platform_machine == \"arm64\" in /opt/conda/lib/python3.9/site-packages (from qiskit-terra==0.20.0->qiskit) (0.9.2)\n",
      "Requirement already satisfied: numpy>=1.17 in /opt/conda/lib/python3.9/site-packages (from qiskit-terra==0.20.0->qiskit) (1.21.5)\n",
      "Requirement already satisfied: psutil>=5 in /opt/conda/lib/python3.9/site-packages (from qiskit-terra==0.20.0->qiskit) (5.9.0)\n",
      "Requirement already satisfied: ply>=3.10 in /opt/conda/lib/python3.9/site-packages (from qiskit-terra==0.20.0->qiskit) (3.11)\n",
      "Requirement already satisfied: dill>=0.3 in /opt/conda/lib/python3.9/site-packages (from qiskit-terra==0.20.0->qiskit) (0.3.4)\n",
      "Requirement already satisfied: stevedore>=3.0.0 in /opt/conda/lib/python3.9/site-packages (from qiskit-terra==0.20.0->qiskit) (3.5.0)\n",
      "Requirement already satisfied: tweedledum<2.0,>=1.1 in /opt/conda/lib/python3.9/site-packages (from qiskit-terra==0.20.0->qiskit) (1.1.1)\n",
      "Requirement already satisfied: python-dateutil>=2.8.0 in /opt/conda/lib/python3.9/site-packages (from qiskit-terra==0.20.0->qiskit) (2.8.0)\n",
      "Requirement already satisfied: scipy>=1.5 in /opt/conda/lib/python3.9/site-packages (from qiskit-terra==0.20.0->qiskit) (1.7.3)\n",
      "Requirement already satisfied: retworkx>=0.11.0 in /opt/conda/lib/python3.9/site-packages (from qiskit-terra==0.20.0->qiskit) (0.11.0)\n",
      "Requirement already satisfied: sympy>=1.3 in /opt/conda/lib/python3.9/site-packages (from qiskit-terra==0.20.0->qiskit) (1.8)\n",
      "Requirement already satisfied: requests>=2.19 in /opt/conda/lib/python3.9/site-packages (from qiskit-ibmq-provider==0.18.3->qiskit) (2.26.0)\n",
      "Requirement already satisfied: urllib3>=1.21.1 in /opt/conda/lib/python3.9/site-packages (from qiskit-ibmq-provider==0.18.3->qiskit) (1.25.7)\n",
      "Requirement already satisfied: requests-ntlm>=1.1.0 in /opt/conda/lib/python3.9/site-packages (from qiskit-ibmq-provider==0.18.3->qiskit) (1.1.0)\n",
      "Requirement already satisfied: websocket-client>=1.0.1 in /opt/conda/lib/python3.9/site-packages (from qiskit-ibmq-provider==0.18.3->qiskit) (1.3.2)\n",
      "Requirement already satisfied: setuptools>=40.1.0 in /opt/conda/lib/python3.9/site-packages (from qiskit-ignis==0.7.0->qiskit) (58.2.0)\n",
      "Requirement already satisfied: pbr!=2.1.0,>=2.0.0 in /opt/conda/lib/python3.9/site-packages (from stevedore>=3.0.0->qiskit-terra==0.20.0->qiskit) (5.8.1)\n",
      "Requirement already satisfied: six>=1.5 in /opt/conda/lib/python3.9/site-packages (from python-dateutil>=2.8.0->qiskit-terra==0.20.0->qiskit) (1.16.0)\n",
      "Requirement already satisfied: mpmath>=0.19 in /opt/conda/lib/python3.9/site-packages (from sympy>=1.3->qiskit-terra==0.20.0->qiskit) (1.2.1)\n",
      "Requirement already satisfied: charset-normalizer~=2.0.0; python_version >= \"3\" in /opt/conda/lib/python3.9/site-packages (from requests>=2.19->qiskit-ibmq-provider==0.18.3->qiskit) (2.0.0)\n",
      "Requirement already satisfied: certifi>=2017.4.17 in /opt/conda/lib/python3.9/site-packages (from requests>=2.19->qiskit-ibmq-provider==0.18.3->qiskit) (2019.11.28)\n",
      "Requirement already satisfied: idna<4,>=2.5; python_version >= \"3\" in /opt/conda/lib/python3.9/site-packages (from requests>=2.19->qiskit-ibmq-provider==0.18.3->qiskit) (2.8)\n",
      "Requirement already satisfied: cryptography>=1.3 in /opt/conda/lib/python3.9/site-packages (from requests-ntlm>=1.1.0->qiskit-ibmq-provider==0.18.3->qiskit) (3.4.8)\n",
      "Requirement already satisfied: ntlm-auth>=1.0.2 in /opt/conda/lib/python3.9/site-packages (from requests-ntlm>=1.1.0->qiskit-ibmq-provider==0.18.3->qiskit) (1.5.0)\n",
      "Requirement already satisfied: cffi>=1.12 in /opt/conda/lib/python3.9/site-packages (from cryptography>=1.3->requests-ntlm>=1.1.0->qiskit-ibmq-provider==0.18.3->qiskit) (1.14.6)\n",
      "Requirement already satisfied: pycparser in /opt/conda/lib/python3.9/site-packages (from cffi>=1.12->cryptography>=1.3->requests-ntlm>=1.1.0->qiskit-ibmq-provider==0.18.3->qiskit) (2.20)\n",
      "Requirement already satisfied: pylatexenc in /opt/conda/lib/python3.9/site-packages (2.10)\n"
     ]
    }
   ],
   "source": [
    "!pip install qiskit\n",
    "!pip install pylatexenc"
   ]
  },
  {
   "cell_type": "code",
   "execution_count": 3,
   "id": "aaace18e",
   "metadata": {},
   "outputs": [],
   "source": [
    "import numpy as np\n",
    "\n",
    "from qiskit import IBMQ, Aer\n",
    "from qiskit.providers.ibmq import least_busy\n",
    "from qiskit import QuantumCircuit, assemble, transpile\n",
    "\n",
    "from qiskit.visualization import plot_histogram"
   ]
  },
  {
   "cell_type": "code",
   "execution_count": 4,
   "id": "71976394",
   "metadata": {},
   "outputs": [
    {
     "data": {
      "image/png": "[encoded data removed]",
      "text/plain": [
       "<Figure size 267.197x264.88 with 1 Axes>"
      ]
     },
     "execution_count": 4,
     "metadata": {},
     "output_type": "execute_result"
    }
   ],
   "source": [
    "#Set the size of the input register:\n",
    "n=3\n",
    "\n",
    "##Initiate a quantum circuit with n+1 qubits\n",
    "oracle_circuit = #TODO\n",
    "\n",
    "# Controlled-NOT gates\n",
    "for qubit in range(n):\n",
    "    oracle_circuit.cx(qubit, n)\n",
    "    \n",
    "oracle_circuit.draw(output='mpl')"
   ]
  },
  {
   "cell_type": "code",
   "execution_count": 5,
   "id": "9da81e46",
   "metadata": {},
   "outputs": [
    {
     "data": {
      "text/plain": [
       "qiskit.circuit.gate.Gate"
      ]
     },
     "execution_count": 5,
     "metadata": {},
     "output_type": "execute_result"
    }
   ],
   "source": [
    "#Wrap in custom gate using .to_gate() function\n",
    "balanced_oracle = oracle_circuit.to_gate()\n",
    "#check with python's type() function\n",
    "type(balanced_oracle)"
   ]
  },
  {
   "cell_type": "markdown",
   "id": "0e1384d3",
   "metadata": {},
   "source": [
    "Great, we have our oracle represented by a gate. Lets practice automating our algorithm for faster testing while we show the new oracle circuit."
   ]
  },
  {
   "cell_type": "code",
   "execution_count": 6,
   "id": "f009bf34",
   "metadata": {},
   "outputs": [
    {
     "data": {
      "image/png": "[encoded data removed]",
      "text/plain": [
       "<Figure size 387.597x264.88 with 1 Axes>"
      ]
     },
     "execution_count": 6,
     "metadata": {},
     "output_type": "execute_result"
    }
   ],
   "source": [
    "qc = QuantumCircuit(n+1)\n",
    "\n",
    "#Define string to easily change encoded input (must have length n):\n",
    "in_str = \"101\"\n",
    "\n",
    "# Place X-gates\n",
    "for qubit in range(len(in_str)):\n",
    "    if in_str[qubit] == '1':\n",
    "        qc.x(qubit)\n",
    "\n",
    "# Use barrier as divider\n",
    "qc.barrier()\n",
    "\n",
    "#insert oracle using .append() function\n",
    "qc.append(balanced_oracle, range(n+1))\n",
    "\n",
    "qc.barrier()\n",
    "\n",
    "# Show complete circuit\n",
    "qc.draw(output = 'mpl')"
   ]
  },
  {
   "cell_type": "markdown",
   "id": "eb831957",
   "metadata": {},
   "source": [
    "Here we have a balanced oracle! Let's wrap it once more to see if DJ can solve it! We can also change 'in_str' to test different oracles."
   ]
  },
  {
   "cell_type": "code",
   "execution_count": 7,
   "id": "00d1a215",
   "metadata": {},
   "outputs": [
    {
     "data": {
      "image/png": "[encoded data removed]",
      "text/plain": [
       "<Figure size 206.997x264.88 with 1 Axes>"
      ]
     },
     "execution_count": 7,
     "metadata": {},
     "output_type": "execute_result"
    }
   ],
   "source": [
    "test_f = QuantumCircuit(n+1)\n",
    "test_f.append(qc, range(n+1))\n",
    "test_f.draw(output = 'mpl')"
   ]
  },
  {
   "cell_type": "markdown",
   "id": "23e7ed01",
   "metadata": {},
   "source": [
    "### 3.4 Deutsch-Jozsa's Algorithm\n",
    "Recall step 1, initiallize the input qubits in the $|+⟩$ state and the output qubit in the $|-⟩$ state."
   ]
  },
  {
   "cell_type": "code",
   "execution_count": 12,
   "id": "b6e65232",
   "metadata": {},
   "outputs": [
    {
     "data": {
      "image/png": "[encoded data removed]",
      "text/plain": [
       "<Figure size 447.797x325.08 with 1 Axes>"
      ]
     },
     "execution_count": 12,
     "metadata": {},
     "output_type": "execute_result"
    }
   ],
   "source": [
    "dj_circuit = QuantumCircuit(n+1, n)\n",
    "\n",
    "# Apply H-gates\n",
    "for qubit in range(n):\n",
    "    dj_circuit.h(qubit)\n",
    "        \n",
    "# Put qubit in state |->\n",
    "dj_circuit.x(n)\n",
    "dj_circuit.h(n)\n",
    "\n",
    "dj_circuit.barrier()\n",
    "\n",
    "    \n",
    "# Add oracle. Note the alternative way to add a gate using the .compose() function.\n",
    "# The inplace parameter creates a gate out of the circuit we're appending.\n",
    "dj_circuit.compose(test_f, inplace=True)\n",
    "\n",
    "dj_circuit.barrier()\n",
    "\n",
    "#Draw\n",
    "dj_circuit.draw(output='mpl')"
   ]
  },
  {
   "cell_type": "markdown",
   "id": "4793b3e6",
   "metadata": {},
   "source": [
    "Lastly we apply H-gates on the inputs after the oracle."
   ]
  },
  {
   "cell_type": "code",
   "execution_count": 20,
   "id": "aef1b57a",
   "metadata": {},
   "outputs": [
    {
     "data": {
      "image/png": "[encoded data removed]",
      "text/plain": [
       "<Figure size 688.597x325.08 with 1 Axes>"
      ]
     },
     "execution_count": 20,
     "metadata": {},
     "output_type": "execute_result"
    }
   ],
   "source": [
    "dj_circuit = QuantumCircuit(n+1, n)\n",
    "\n",
    "# Apply H-gates\n",
    "for qubit in range(n):\n",
    "    ## TODO\n",
    "\n",
    "# Put qubit in state |->\n",
    "dj_circuit.x(n)\n",
    "dj_circuit.h(n)\n",
    "\n",
    "dj_circuit.barrier()\n",
    "\n",
    "# Add oracle. Note the alternative way to add a gate using +=, like we're appending to a list!\n",
    "dj_circuit.compose(test_f, inplace=True)\n",
    "\n",
    "# Repeat H-gates\n",
    "for qubit in range(n):\n",
    "    # TODO\n",
    "dj_circuit.barrier()\n",
    "\n",
    "\n",
    "# Measure\n",
    "for i in range(n):\n",
    "    dj_circuit.measure(i, i)\n",
    "\n",
    "# Display circuit\n",
    "dj_circuit.draw(output='mpl')"
   ]
  },
  {
   "cell_type": "markdown",
   "id": "6fc65969",
   "metadata": {},
   "source": [
    "Let's see the results! Remember, we expect 1 if test_f is balanced, and 0 if not. We should get 0% 0:"
   ]
  },
  {
   "cell_type": "code",
   "execution_count": 21,
   "id": "d6a5f212",
   "metadata": {},
   "outputs": [
    {
     "data": {
      "image/png": "[encoded data removed]",
      "text/plain": [
       "<Figure size 504x360 with 1 Axes>"
      ]
     },
     "execution_count": 21,
     "metadata": {},
     "output_type": "execute_result"
    }
   ],
   "source": [
    "# use local simulator\n",
    "aer_sim = Aer.get_backend('aer_simulator')\n",
    "\n",
    "#we use transpile instead of assemble because not all backends \n",
    "qobj = transpile(dj_circuit, aer_sim)\n",
    "results = aer_sim.run(qobj).result()\n",
    "answer = results.get_counts()\n",
    "\n",
    "plot_histogram(answer)"
   ]
  }
 ],
 "metadata": {
  "kernelspec": {
   "display_name": "Python 3 (ipykernel)",
   "language": "python",
   "name": "python3"
  },
  "language_info": {
   "codemirror_mode": {
    "name": "ipython",
    "version": 3
   },
   "file_extension": ".py",
   "mimetype": "text/x-python",
   "name": "python",
   "nbconvert_exporter": "python",
   "pygments_lexer": "ipython3",
   "version": "3.9.12"
  }
 },
 "nbformat": 4,
 "nbformat_minor": 5
}
