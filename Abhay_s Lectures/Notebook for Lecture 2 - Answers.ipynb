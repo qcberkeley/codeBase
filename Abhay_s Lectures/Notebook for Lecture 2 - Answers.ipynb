{
 "cells": [
  {
   "cell_type": "code",
   "execution_count": 2,
   "id": "2369691d",
   "metadata": {},
   "outputs": [
    {
     "name": "stdout",
     "output_type": "stream",
     "text": [
      "Requirement already satisfied: qiskit in /opt/conda/lib/python3.9/site-packages (0.34.2)\n",
      "Requirement already satisfied: qiskit-terra==0.19.2 in /opt/conda/lib/python3.9/site-packages (from qiskit) (0.19.2)\n",
      "Requirement already satisfied: qiskit-ibmq-provider==0.18.3 in /opt/conda/lib/python3.9/site-packages (from qiskit) (0.18.3)\n",
      "Requirement already satisfied: qiskit-ignis==0.7.0 in /opt/conda/lib/python3.9/site-packages (from qiskit) (0.7.0)\n",
      "Requirement already satisfied: qiskit-aer==0.10.3 in /opt/conda/lib/python3.9/site-packages (from qiskit) (0.10.3)\n",
      "Requirement already satisfied: stevedore>=3.0.0 in /opt/conda/lib/python3.9/site-packages (from qiskit-terra==0.19.2->qiskit) (3.5.0)\n",
      "Requirement already satisfied: dill>=0.3 in /opt/conda/lib/python3.9/site-packages (from qiskit-terra==0.19.2->qiskit) (0.3.4)\n",
      "Requirement already satisfied: numpy>=1.17 in /opt/conda/lib/python3.9/site-packages (from qiskit-terra==0.19.2->qiskit) (1.21.5)\n",
      "Requirement already satisfied: retworkx>=0.10.1 in /opt/conda/lib/python3.9/site-packages (from qiskit-terra==0.19.2->qiskit) (0.11.0)\n",
      "Requirement already satisfied: ply>=3.10 in /opt/conda/lib/python3.9/site-packages (from qiskit-terra==0.19.2->qiskit) (3.11)\n",
      "Requirement already satisfied: scipy>=1.5 in /opt/conda/lib/python3.9/site-packages (from qiskit-terra==0.19.2->qiskit) (1.7.3)\n",
      "Requirement already satisfied: psutil>=5 in /opt/conda/lib/python3.9/site-packages (from qiskit-terra==0.19.2->qiskit) (5.9.0)\n",
      "Requirement already satisfied: python-constraint>=1.4 in /opt/conda/lib/python3.9/site-packages (from qiskit-terra==0.19.2->qiskit) (1.4.0)\n",
      "Requirement already satisfied: symengine>=0.8; platform_machine == \"x86_64\" or platform_machine == \"aarch64\" or platform_machine == \"ppc64le\" or platform_machine == \"amd64\" or platform_machine == \"arm64\" in /opt/conda/lib/python3.9/site-packages (from qiskit-terra==0.19.2->qiskit) (0.9.0)\n",
      "Requirement already satisfied: tweedledum<2.0,>=1.1 in /opt/conda/lib/python3.9/site-packages (from qiskit-terra==0.19.2->qiskit) (1.1.1)\n",
      "Requirement already satisfied: sympy>=1.3 in /opt/conda/lib/python3.9/site-packages (from qiskit-terra==0.19.2->qiskit) (1.8)\n",
      "Requirement already satisfied: python-dateutil>=2.8.0 in /opt/conda/lib/python3.9/site-packages (from qiskit-terra==0.19.2->qiskit) (2.8.0)\n",
      "Requirement already satisfied: requests-ntlm>=1.1.0 in /opt/conda/lib/python3.9/site-packages (from qiskit-ibmq-provider==0.18.3->qiskit) (1.1.0)\n",
      "Requirement already satisfied: requests>=2.19 in /opt/conda/lib/python3.9/site-packages (from qiskit-ibmq-provider==0.18.3->qiskit) (2.26.0)\n",
      "Requirement already satisfied: websocket-client>=1.0.1 in /opt/conda/lib/python3.9/site-packages (from qiskit-ibmq-provider==0.18.3->qiskit) (1.2.3)\n",
      "Requirement already satisfied: urllib3>=1.21.1 in /opt/conda/lib/python3.9/site-packages (from qiskit-ibmq-provider==0.18.3->qiskit) (1.25.7)\n",
      "Requirement already satisfied: setuptools>=40.1.0 in /opt/conda/lib/python3.9/site-packages (from qiskit-ignis==0.7.0->qiskit) (58.2.0)\n",
      "Requirement already satisfied: pbr!=2.1.0,>=2.0.0 in /opt/conda/lib/python3.9/site-packages (from stevedore>=3.0.0->qiskit-terra==0.19.2->qiskit) (5.8.1)\n",
      "Requirement already satisfied: mpmath>=0.19 in /opt/conda/lib/python3.9/site-packages (from sympy>=1.3->qiskit-terra==0.19.2->qiskit) (1.2.1)\n",
      "Requirement already satisfied: six>=1.5 in /opt/conda/lib/python3.9/site-packages (from python-dateutil>=2.8.0->qiskit-terra==0.19.2->qiskit) (1.16.0)\n",
      "Requirement already satisfied: cryptography>=1.3 in /opt/conda/lib/python3.9/site-packages (from requests-ntlm>=1.1.0->qiskit-ibmq-provider==0.18.3->qiskit) (3.4.8)\n",
      "Requirement already satisfied: ntlm-auth>=1.0.2 in /opt/conda/lib/python3.9/site-packages (from requests-ntlm>=1.1.0->qiskit-ibmq-provider==0.18.3->qiskit) (1.5.0)\n",
      "Requirement already satisfied: charset-normalizer~=2.0.0; python_version >= \"3\" in /opt/conda/lib/python3.9/site-packages (from requests>=2.19->qiskit-ibmq-provider==0.18.3->qiskit) (2.0.0)\n",
      "Requirement already satisfied: idna<4,>=2.5; python_version >= \"3\" in /opt/conda/lib/python3.9/site-packages (from requests>=2.19->qiskit-ibmq-provider==0.18.3->qiskit) (2.8)\n",
      "Requirement already satisfied: certifi>=2017.4.17 in /opt/conda/lib/python3.9/site-packages (from requests>=2.19->qiskit-ibmq-provider==0.18.3->qiskit) (2019.11.28)\n",
      "Requirement already satisfied: cffi>=1.12 in /opt/conda/lib/python3.9/site-packages (from cryptography>=1.3->requests-ntlm>=1.1.0->qiskit-ibmq-provider==0.18.3->qiskit) (1.14.6)\n",
      "Requirement already satisfied: pycparser in /opt/conda/lib/python3.9/site-packages (from cffi>=1.12->cryptography>=1.3->requests-ntlm>=1.1.0->qiskit-ibmq-provider==0.18.3->qiskit) (2.20)\n",
      "Requirement already satisfied: qiskit-ionq in /opt/conda/lib/python3.9/site-packages (0.1.4)\n",
      "Requirement already satisfied: requests>=2.24.0 in /opt/conda/lib/python3.9/site-packages (from qiskit-ionq) (2.26.0)\n",
      "Requirement already satisfied: qiskit-terra>=0.17.4 in /opt/conda/lib/python3.9/site-packages (from qiskit-ionq) (0.19.2)\n",
      "Requirement already satisfied: charset-normalizer~=2.0.0; python_version >= \"3\" in /opt/conda/lib/python3.9/site-packages (from requests>=2.24.0->qiskit-ionq) (2.0.0)\n",
      "Requirement already satisfied: idna<4,>=2.5; python_version >= \"3\" in /opt/conda/lib/python3.9/site-packages (from requests>=2.24.0->qiskit-ionq) (2.8)\n",
      "Requirement already satisfied: certifi>=2017.4.17 in /opt/conda/lib/python3.9/site-packages (from requests>=2.24.0->qiskit-ionq) (2019.11.28)\n",
      "Requirement already satisfied: urllib3<1.27,>=1.21.1 in /opt/conda/lib/python3.9/site-packages (from requests>=2.24.0->qiskit-ionq) (1.25.7)\n",
      "Requirement already satisfied: tweedledum<2.0,>=1.1 in /opt/conda/lib/python3.9/site-packages (from qiskit-terra>=0.17.4->qiskit-ionq) (1.1.1)\n",
      "Requirement already satisfied: psutil>=5 in /opt/conda/lib/python3.9/site-packages (from qiskit-terra>=0.17.4->qiskit-ionq) (5.9.0)\n",
      "Requirement already satisfied: ply>=3.10 in /opt/conda/lib/python3.9/site-packages (from qiskit-terra>=0.17.4->qiskit-ionq) (3.11)\n",
      "Requirement already satisfied: python-dateutil>=2.8.0 in /opt/conda/lib/python3.9/site-packages (from qiskit-terra>=0.17.4->qiskit-ionq) (2.8.0)\n",
      "Requirement already satisfied: stevedore>=3.0.0 in /opt/conda/lib/python3.9/site-packages (from qiskit-terra>=0.17.4->qiskit-ionq) (3.5.0)\n",
      "Requirement already satisfied: python-constraint>=1.4 in /opt/conda/lib/python3.9/site-packages (from qiskit-terra>=0.17.4->qiskit-ionq) (1.4.0)\n",
      "Requirement already satisfied: numpy>=1.17 in /opt/conda/lib/python3.9/site-packages (from qiskit-terra>=0.17.4->qiskit-ionq) (1.21.5)\n",
      "Requirement already satisfied: scipy>=1.5 in /opt/conda/lib/python3.9/site-packages (from qiskit-terra>=0.17.4->qiskit-ionq) (1.7.3)\n",
      "Requirement already satisfied: symengine>=0.8; platform_machine == \"x86_64\" or platform_machine == \"aarch64\" or platform_machine == \"ppc64le\" or platform_machine == \"amd64\" or platform_machine == \"arm64\" in /opt/conda/lib/python3.9/site-packages (from qiskit-terra>=0.17.4->qiskit-ionq) (0.9.0)\n",
      "Requirement already satisfied: retworkx>=0.10.1 in /opt/conda/lib/python3.9/site-packages (from qiskit-terra>=0.17.4->qiskit-ionq) (0.11.0)\n",
      "Requirement already satisfied: dill>=0.3 in /opt/conda/lib/python3.9/site-packages (from qiskit-terra>=0.17.4->qiskit-ionq) (0.3.4)\n",
      "Requirement already satisfied: sympy>=1.3 in /opt/conda/lib/python3.9/site-packages (from qiskit-terra>=0.17.4->qiskit-ionq) (1.8)\n",
      "Requirement already satisfied: six>=1.5 in /opt/conda/lib/python3.9/site-packages (from python-dateutil>=2.8.0->qiskit-terra>=0.17.4->qiskit-ionq) (1.16.0)\n",
      "Requirement already satisfied: pbr!=2.1.0,>=2.0.0 in /opt/conda/lib/python3.9/site-packages (from stevedore>=3.0.0->qiskit-terra>=0.17.4->qiskit-ionq) (5.8.1)\n",
      "Requirement already satisfied: mpmath>=0.19 in /opt/conda/lib/python3.9/site-packages (from sympy>=1.3->qiskit-terra>=0.17.4->qiskit-ionq) (1.2.1)\n"
     ]
    }
   ],
   "source": [
    "!pip install qiskit\n",
    "!pip install qiskit-ionq"
   ]
  },
  {
   "cell_type": "code",
   "execution_count": 3,
   "id": "1ec483e1",
   "metadata": {},
   "outputs": [],
   "source": [
    "#import IonQ backends\n",
    "from qiskit_ionq import IonQProvider\n",
    "ionq_provider = IonQProvider(token='my token')\n",
    "\n",
    "#Import other qiskit requirements\n",
    "from qiskit import QuantumCircuit, Aer, execute\n",
    "from qiskit.tools.visualization import plot_histogram, array_to_latex\n",
    "from qiskit.extensions import UnitaryGate"
   ]
  },
  {
   "cell_type": "markdown",
   "id": "7cf00c0a",
   "metadata": {},
   "source": [
    "### Question 1 : Implementing CNOT (Simulator vs. Hardware)\n",
    "\n",
    "(i) Implement a simple quantum circuit with one CNOT gate and plot a histogram of the execution results\n",
    "(ii) Repeat part (i), but use IonQ hardware, and observe the differences in the histogram\n",
    "(iii) Now implement a quantum circuit with a CNOT gate that is activated when the control is in the state $\\left| 0 \\right>$ "
   ]
  },
  {
   "cell_type": "code",
   "execution_count": 4,
   "id": "d13d50ba",
   "metadata": {},
   "outputs": [
    {
     "data": {
      "text/html": [
       "<pre style=\"word-wrap: normal;white-space: pre;background: #fff0;line-height: 1.1;font-family: &quot;Courier New&quot;,Courier,monospace\">          ┌─┐   \n",
       "q_0: ──■──┤M├───\n",
       "     ┌─┴─┐└╥┘┌─┐\n",
       "q_1: ┤ X ├─╫─┤M├\n",
       "     └───┘ ║ └╥┘\n",
       "c: 2/══════╩══╩═\n",
       "           0  1 </pre>"
      ],
      "text/plain": [
       "          ┌─┐   \n",
       "q_0: ──■──┤M├───\n",
       "     ┌─┴─┐└╥┘┌─┐\n",
       "q_1: ┤ X ├─╫─┤M├\n",
       "     └───┘ ║ └╥┘\n",
       "c: 2/══════╩══╩═\n",
       "           0  1 "
      ]
     },
     "execution_count": 4,
     "metadata": {},
     "output_type": "execute_result"
    }
   ],
   "source": [
    "qc = QuantumCircuit(2, 2) #Instantiate a circuit with two qubits and two classical bits\n",
    "qc.cx(0, 1)   # Apply the CNOT gate with control qubit 0 and target qubit 1\n",
    "\n",
    "for i in range(len(qc.qubits)):  # Measure all the qubits\n",
    "    qc.measure(i, i)\n",
    "    \n",
    "qc.draw() #Draw the circuit to visualize it "
   ]
  },
  {
   "cell_type": "code",
   "execution_count": 5,
   "id": "298655fe",
   "metadata": {},
   "outputs": [
    {
     "data": {
      "image/png": "[encoded data removed]",
      "text/plain": [
       "<Figure size 504x360 with 1 Axes>"
      ]
     },
     "execution_count": 5,
     "metadata": {},
     "output_type": "execute_result"
    }
   ],
   "source": [
    "backend = Aer.get_backend('qasm_simulator') #choose your backend\n",
    "job = execute(qc, backend) #create the job object\n",
    "result = job.result() #create the result object\n",
    "counts = result.get_counts()  #get the counts dictionary\n",
    "plot_histogram(counts)  #plot the histogram of counts"
   ]
  },
  {
   "cell_type": "markdown",
   "id": "d1d06286",
   "metadata": {},
   "source": [
    "This result makes sense : the control bit was in the state $\\left| 0 \\right>$, and therefore the target bit, which was in the state $\\left| 0 \\right>$ did not change. Now, let us run the circuit on IonQ hardware and see what happens"
   ]
  },
  {
   "cell_type": "code",
   "execution_count": 6,
   "id": "ab72e5b8",
   "metadata": {},
   "outputs": [
    {
     "ename": "IonQAPIError",
     "evalue": "IonQAPIError(message='No error details provided.',status_code=401,error_type='Unauthorized')",
     "output_type": "error",
     "traceback": [
      "\u001b[0;31m---------------------------------------------------------------------------\u001b[0m",
      "\u001b[0;31mIonQAPIError\u001b[0m                              Traceback (most recent call last)",
      "Input \u001b[0;32mIn [6]\u001b[0m, in \u001b[0;36m<module>\u001b[0;34m\u001b[0m\n\u001b[1;32m      1\u001b[0m backend \u001b[38;5;241m=\u001b[39m ionq_provider\u001b[38;5;241m.\u001b[39mget_backend(\u001b[38;5;124m'\u001b[39m\u001b[38;5;124mionq_qpu\u001b[39m\u001b[38;5;124m'\u001b[39m) \u001b[38;5;66;03m#choose your backend\u001b[39;00m\n\u001b[0;32m----> 2\u001b[0m job \u001b[38;5;241m=\u001b[39m \u001b[43mexecute\u001b[49m\u001b[43m(\u001b[49m\u001b[43mqc\u001b[49m\u001b[43m,\u001b[49m\u001b[43m \u001b[49m\u001b[43mbackend\u001b[49m\u001b[43m)\u001b[49m  \u001b[38;5;66;03m#get the job objecct\u001b[39;00m\n\u001b[1;32m      4\u001b[0m \u001b[38;5;66;03m# check if job is complete\u001b[39;00m\n\u001b[1;32m      5\u001b[0m \u001b[38;5;28;01mfrom\u001b[39;00m \u001b[38;5;21;01mqiskit\u001b[39;00m\u001b[38;5;21;01m.\u001b[39;00m\u001b[38;5;21;01mproviders\u001b[39;00m\u001b[38;5;21;01m.\u001b[39;00m\u001b[38;5;21;01mjobstatus\u001b[39;00m \u001b[38;5;28;01mimport\u001b[39;00m JobStatus\n",
      "File \u001b[0;32m/opt/conda/lib/python3.9/site-packages/qiskit/execute_function.py:393\u001b[0m, in \u001b[0;36mexecute\u001b[0;34m(experiments, backend, basis_gates, coupling_map, backend_properties, initial_layout, seed_transpiler, optimization_level, pass_manager, qobj_id, qobj_header, shots, memory, max_credits, seed_simulator, default_qubit_los, default_meas_los, qubit_lo_range, meas_lo_range, schedule_los, meas_level, meas_return, memory_slots, memory_slot_size, rep_time, rep_delay, parameter_binds, schedule_circuit, inst_map, meas_map, scheduling_method, init_qubits, **run_config)\u001b[0m\n\u001b[1;32m    391\u001b[0m     run_kwargs[\u001b[38;5;124m\"\u001b[39m\u001b[38;5;124mparameter_binds\u001b[39m\u001b[38;5;124m\"\u001b[39m] \u001b[38;5;241m=\u001b[39m parameter_binds\n\u001b[1;32m    392\u001b[0m run_kwargs\u001b[38;5;241m.\u001b[39mupdate(run_config)\n\u001b[0;32m--> 393\u001b[0m job \u001b[38;5;241m=\u001b[39m \u001b[43mbackend\u001b[49m\u001b[38;5;241;43m.\u001b[39;49m\u001b[43mrun\u001b[49m\u001b[43m(\u001b[49m\u001b[43mexperiments\u001b[49m\u001b[43m,\u001b[49m\u001b[43m \u001b[49m\u001b[38;5;241;43m*\u001b[39;49m\u001b[38;5;241;43m*\u001b[39;49m\u001b[43mrun_kwargs\u001b[49m\u001b[43m)\u001b[49m\n\u001b[1;32m    394\u001b[0m end_time \u001b[38;5;241m=\u001b[39m time()\n\u001b[1;32m    395\u001b[0m _log_submission_time(start_time, end_time)\n",
      "File \u001b[0;32m/opt/conda/lib/python3.9/site-packages/qiskit_ionq/ionq_backend.py:216\u001b[0m, in \u001b[0;36mIonQBackend.run\u001b[0;34m(self, circuit, **kwargs)\u001b[0m\n\u001b[1;32m    207\u001b[0m passed_args \u001b[38;5;241m=\u001b[39m kwargs\n\u001b[1;32m    209\u001b[0m job \u001b[38;5;241m=\u001b[39m ionq_job\u001b[38;5;241m.\u001b[39mIonQJob(\n\u001b[1;32m    210\u001b[0m     \u001b[38;5;28mself\u001b[39m,\n\u001b[1;32m    211\u001b[0m     \u001b[38;5;28;01mNone\u001b[39;00m,\n\u001b[0;32m   (...)\u001b[0m\n\u001b[1;32m    214\u001b[0m     passed_args\u001b[38;5;241m=\u001b[39mpassed_args,\n\u001b[1;32m    215\u001b[0m )\n\u001b[0;32m--> 216\u001b[0m \u001b[43mjob\u001b[49m\u001b[38;5;241;43m.\u001b[39;49m\u001b[43msubmit\u001b[49m\u001b[43m(\u001b[49m\u001b[43m)\u001b[49m\n\u001b[1;32m    217\u001b[0m \u001b[38;5;28;01mreturn\u001b[39;00m job\n",
      "File \u001b[0;32m/opt/conda/lib/python3.9/site-packages/qiskit_ionq/ionq_job.py:182\u001b[0m, in \u001b[0;36mIonQJob.submit\u001b[0;34m(self)\u001b[0m\n\u001b[1;32m    176\u001b[0m \u001b[38;5;28;01mif\u001b[39;00m \u001b[38;5;28mself\u001b[39m\u001b[38;5;241m.\u001b[39mcircuit \u001b[38;5;129;01mis\u001b[39;00m \u001b[38;5;28;01mNone\u001b[39;00m:\n\u001b[1;32m    177\u001b[0m     \u001b[38;5;28;01mraise\u001b[39;00m exceptions\u001b[38;5;241m.\u001b[39mIonQJobError(\n\u001b[1;32m    178\u001b[0m         \u001b[38;5;124m\"\u001b[39m\u001b[38;5;124mCannot submit a job without a circuit. \u001b[39m\u001b[38;5;124m\"\u001b[39m\n\u001b[1;32m    179\u001b[0m         \u001b[38;5;124m\"\u001b[39m\u001b[38;5;124mPlease create a job with a circuit and try again.\u001b[39m\u001b[38;5;124m\"\u001b[39m\n\u001b[1;32m    180\u001b[0m     )\n\u001b[0;32m--> 182\u001b[0m response \u001b[38;5;241m=\u001b[39m \u001b[38;5;28;43mself\u001b[39;49m\u001b[38;5;241;43m.\u001b[39;49m\u001b[43m_client\u001b[49m\u001b[38;5;241;43m.\u001b[39;49m\u001b[43msubmit_job\u001b[49m\u001b[43m(\u001b[49m\u001b[43mjob\u001b[49m\u001b[38;5;241;43m=\u001b[39;49m\u001b[38;5;28;43mself\u001b[39;49m\u001b[43m)\u001b[49m\n\u001b[1;32m    183\u001b[0m \u001b[38;5;28mself\u001b[39m\u001b[38;5;241m.\u001b[39m_job_id \u001b[38;5;241m=\u001b[39m response[\u001b[38;5;124m\"\u001b[39m\u001b[38;5;124mid\u001b[39m\u001b[38;5;124m\"\u001b[39m]\n",
      "File \u001b[0;32m/opt/conda/lib/python3.9/site-packages/qiskit_ionq/ionq_client.py:88\u001b[0m, in \u001b[0;36mIonQClient.submit_job\u001b[0;34m(self, job)\u001b[0m\n\u001b[1;32m     86\u001b[0m res \u001b[38;5;241m=\u001b[39m requests\u001b[38;5;241m.\u001b[39mpost(req_path, data\u001b[38;5;241m=\u001b[39mas_json, headers\u001b[38;5;241m=\u001b[39m\u001b[38;5;28mself\u001b[39m\u001b[38;5;241m.\u001b[39mapi_headers)\n\u001b[1;32m     87\u001b[0m \u001b[38;5;28;01mif\u001b[39;00m res\u001b[38;5;241m.\u001b[39mstatus_code \u001b[38;5;241m!=\u001b[39m \u001b[38;5;241m200\u001b[39m:\n\u001b[0;32m---> 88\u001b[0m     \u001b[38;5;28;01mraise\u001b[39;00m \u001b[43mexceptions\u001b[49m\u001b[38;5;241;43m.\u001b[39;49m\u001b[43mIonQAPIError\u001b[49m\u001b[38;5;241;43m.\u001b[39;49m\u001b[43mfrom_response\u001b[49m\u001b[43m(\u001b[49m\u001b[43mres\u001b[49m\u001b[43m)\u001b[49m\n\u001b[1;32m     89\u001b[0m \u001b[38;5;28;01mreturn\u001b[39;00m res\u001b[38;5;241m.\u001b[39mjson()\n",
      "File \u001b[0;32m/opt/conda/lib/python3.9/site-packages/qiskit_ionq/exceptions.py:90\u001b[0m, in \u001b[0;36mIonQAPIError.from_response\u001b[0;34m(cls, response)\u001b[0m\n\u001b[1;32m     88\u001b[0m     message \u001b[38;5;241m=\u001b[39m error_data\u001b[38;5;241m.\u001b[39mget(\u001b[38;5;124m\"\u001b[39m\u001b[38;5;124mmessage\u001b[39m\u001b[38;5;124m\"\u001b[39m) \u001b[38;5;129;01mor\u001b[39;00m message\n\u001b[1;32m     89\u001b[0m     error_type \u001b[38;5;241m=\u001b[39m error_data\u001b[38;5;241m.\u001b[39mget(\u001b[38;5;124m\"\u001b[39m\u001b[38;5;124mtype\u001b[39m\u001b[38;5;124m\"\u001b[39m) \u001b[38;5;129;01mor\u001b[39;00m error_type\n\u001b[0;32m---> 90\u001b[0m \u001b[38;5;28;01mraise\u001b[39;00m \u001b[38;5;28mcls\u001b[39m(message, status_code, error_type)\n",
      "\u001b[0;31mIonQAPIError\u001b[0m: IonQAPIError(message='No error details provided.',status_code=401,error_type='Unauthorized')"
     ]
    }
   ],
   "source": [
    "backend = ionq_provider.get_backend('ionq_qpu') #choose your backend\n",
    "job = execute(qc, backend)  #get the job objecct\n",
    "\n",
    "# check if job is complete\n",
    "from qiskit.providers.jobstatus import JobStatus\n",
    "import time\n",
    "while job.status() is not JobStatus.DONE:\n",
    "    print(\"Job status is\", job.status() )\n",
    "    time.sleep(60)\n",
    "    \n",
    "result = job.result() # get result object\n",
    "counts = result.get_counts() #get the counts dictionary\n",
    "plot_histogram(counts) #plot the histogram of the counts    "
   ]
  },
  {
   "cell_type": "markdown",
   "id": "dab82fe9",
   "metadata": {},
   "source": [
    "So this time, we have some occurrences of the wrong results in the histogram. We should have ideally received all bit strings in the state $\\left| 00 \\right>$. But we have occurrences of other bit strings as well. This is because of errors in the quantum computer."
   ]
  },
  {
   "cell_type": "markdown",
   "id": "3266a688",
   "metadata": {},
   "source": [
    "Finally, we need to make a CNOT gate that gets activated when the control bit is in the state $\\left| 0 \\right>$. How can we do this? Well, our traditional CNOT gate gets activated when the control qubit is in the state $\\left| 1 \\right>$. What if we add an $X$ gate before the CNOT gate in the path of the control qubit? What this will do is \n",
    "\n",
    "- change the $\\left| 0 \\right>$ state to the $\\left| 1 \\right>$ state, which will then activate the regular CNOT gate. So the state $\\left| 0 \\right>$ will effectively activate the CNOT gate.\n",
    "\n",
    "- change the $\\left| 1 \\right>$ state to the $\\left| 0 \\right>$ state, which will then not activate the regular CNOT gate. So the $\\left| 1 \\right>$ state will not activate the CNOT gate anymore.\n",
    "\n",
    "Finally, we will have to undo the effect of the $X$ gate that we will apply. So we will need to add an $X$ gate at the end.\n",
    "\n",
    "Okay, let us try it!"
   ]
  },
  {
   "cell_type": "code",
   "execution_count": 12,
   "id": "5436ffd4",
   "metadata": {},
   "outputs": [
    {
     "data": {
      "text/html": [
       "<pre style=\"word-wrap: normal;white-space: pre;background: #fff0;line-height: 1.1;font-family: &quot;Courier New&quot;,Courier,monospace\">     ┌───┐     ┌───┐\n",
       "q_0: ┤ X ├──■──┤ X ├\n",
       "     └───┘┌─┴─┐└───┘\n",
       "q_1: ─────┤ X ├─────\n",
       "          └───┘     </pre>"
      ],
      "text/plain": [
       "     ┌───┐     ┌───┐\n",
       "q_0: ┤ X ├──■──┤ X ├\n",
       "     └───┘┌─┴─┐└───┘\n",
       "q_1: ─────┤ X ├─────\n",
       "          └───┘     "
      ]
     },
     "execution_count": 12,
     "metadata": {},
     "output_type": "execute_result"
    }
   ],
   "source": [
    "# First we will create our very own, new quantum gate\n",
    "\n",
    "my_circuit = QuantumCircuit(2) #Our gate is a two-qubit gate, so initialize a two-qubit quantum circuit\n",
    "my_circuit.x(0)  #our gate has a NOT gate\n",
    "my_circuit.cx(0, 1) #our gate then has a CNOT gate\n",
    "my_circuit.x(0) #then we have a NOT gate\n",
    "my_circuit.draw() #visualize"
   ]
  },
  {
   "cell_type": "code",
   "execution_count": 13,
   "id": "03923631",
   "metadata": {},
   "outputs": [
    {
     "data": {
      "text/plain": [
       "qiskit.circuit.gate.Gate"
      ]
     },
     "execution_count": 13,
     "metadata": {},
     "output_type": "execute_result"
    }
   ],
   "source": [
    "#convert your circuit to a gate\n",
    "xcx = my_circuit.to_gate()\n",
    "type(xcx)"
   ]
  },
  {
   "cell_type": "code",
   "execution_count": 14,
   "id": "812bfaea",
   "metadata": {},
   "outputs": [
    {
     "data": {
      "text/html": [
       "<pre style=\"word-wrap: normal;white-space: pre;background: #fff0;line-height: 1.1;font-family: &quot;Courier New&quot;,Courier,monospace\">     ┌─────────────┐┌─┐   \n",
       "q_0: ┤0            ├┤M├───\n",
       "     │  circuit-95 │└╥┘┌─┐\n",
       "q_1: ┤1            ├─╫─┤M├\n",
       "     └─────────────┘ ║ └╥┘\n",
       "c: 2/════════════════╩══╩═\n",
       "                     0  1 </pre>"
      ],
      "text/plain": [
       "     ┌─────────────┐┌─┐   \n",
       "q_0: ┤0            ├┤M├───\n",
       "     │  circuit-95 │└╥┘┌─┐\n",
       "q_1: ┤1            ├─╫─┤M├\n",
       "     └─────────────┘ ║ └╥┘\n",
       "c: 2/════════════════╩══╩═\n",
       "                     0  1 "
      ]
     },
     "execution_count": 14,
     "metadata": {},
     "output_type": "execute_result"
    }
   ],
   "source": [
    "qc = QuantumCircuit(2, 2) #Instantiate a circuit with two qubits and two classical bits\n",
    "qc.append(xcx, [0, 1])   # Apply your special CNOT gate with control qubit 0 and target qubit 1\n",
    " \n",
    "for i in range(len(qc.qubits)):  # Measure all the qubits\n",
    "    qc.measure(i, i)\n",
    "    \n",
    "qc.draw() #Draw the circuit to visualize it "
   ]
  },
  {
   "cell_type": "code",
   "execution_count": 15,
   "id": "8c22d9c4",
   "metadata": {},
   "outputs": [
    {
     "data": {
      "image/png": "[encoded data removed]",
      "text/plain": [
       "<Figure size 504x360 with 1 Axes>"
      ]
     },
     "execution_count": 15,
     "metadata": {},
     "output_type": "execute_result"
    }
   ],
   "source": [
    "backend = Aer.get_backend('qasm_simulator') #choose your backend\n",
    "job = execute(qc, backend) #create the job object\n",
    "result = job.result() #create the result object\n",
    "counts = result.get_counts()  #get the counts dictionary\n",
    "plot_histogram(counts)  #plot the histogram of counts"
   ]
  },
  {
   "cell_type": "markdown",
   "id": "608ccb05",
   "metadata": {},
   "source": [
    "This is the expected result. The bit string displayed in the histogram should be interpreted as the state $\\left| 01 \\right>$.\n",
    "\n",
    "Now, let us move on to question 2."
   ]
  },
  {
   "cell_type": "markdown",
   "id": "90057ade",
   "metadata": {},
   "source": [
    "### Question 2\n",
    "\n",
    "Implement a Toffoli gate by creating a gate $V = \\frac{1-i}{2}(I + iX)$, and then implementing the circuit from lecture."
   ]
  },
  {
   "cell_type": "code",
   "execution_count": 17,
   "id": "e78b0868",
   "metadata": {},
   "outputs": [
    {
     "name": "stdout",
     "output_type": "stream",
     "text": [
      "     ┌─────────┐\n",
      "q_0: ┤ unitary ├\n",
      "     └─────────┘\n"
     ]
    },
    {
     "data": {
      "text/latex": [
       "$$\n",
       "\n",
       "\\begin{bmatrix}\n",
       "\\tfrac{1}{2}(1 - i) & \\tfrac{1}{2}(1 + i)  \\\\\n",
       " \\tfrac{1}{2}(1 + i) & \\tfrac{1}{2}(1 - i)  \\\\\n",
       " \\end{bmatrix}\n",
       "$$"
      ],
      "text/plain": [
       "<IPython.core.display.Latex object>"
      ]
     },
     "execution_count": 17,
     "metadata": {},
     "output_type": "execute_result"
    }
   ],
   "source": [
    "#First we will create the V gate\n",
    "\n",
    "matrix = [[0.5 * (1 - 1j), 0.5 * (1 - 1j) * 1j], #enter the matrix of the V-gate\n",
    "        [0.5 * (1 - 1j) * 1j, 0.5 * (1 - 1j)]]\n",
    "\n",
    "v = UnitaryGate(matrix, 'V') #Defining V\n",
    "\n",
    "#Trying out our V-gate\n",
    "qc = QuantumCircuit(1) #Initialise Quantum Circuit \n",
    "qc.unitary(v, 0) # Act unitary on circuit\n",
    "print(qc.draw()) #Visualize circuit\n",
    "\n",
    "#matrix of V-gate\n",
    "backend = Aer.get_backend('unitary_simulator') #use unitary_simulator as backend\n",
    "job = execute(qc, backend) #create job object\n",
    "result = job.result() #create result object\n",
    "matrix = result.get_unitary() #get the unitary matrix corresponding to the circuit\n",
    "array_to_latex(matrix) #illustrate the matrix"
   ]
  },
  {
   "cell_type": "markdown",
   "id": "84950719",
   "metadata": {},
   "source": [
    "Okay, it's good that we defined the $V$ gate. But we actually need the controlled-$V$ gate"
   ]
  },
  {
   "cell_type": "code",
   "execution_count": 18,
   "id": "83519709",
   "metadata": {},
   "outputs": [
    {
     "data": {
      "text/html": [
       "<pre style=\"word-wrap: normal;white-space: pre;background: #fff0;line-height: 1.1;font-family: &quot;Courier New&quot;,Courier,monospace\">          \n",
       "q_0: ──■──\n",
       "     ┌─┴─┐\n",
       "q_1: ┤ V ├\n",
       "     └───┘</pre>"
      ],
      "text/plain": [
       "          \n",
       "q_0: ──■──\n",
       "     ┌─┴─┐\n",
       "q_1: ┤ V ├\n",
       "     └───┘"
      ]
     },
     "execution_count": 18,
     "metadata": {},
     "output_type": "execute_result"
    }
   ],
   "source": [
    "controlled_v = v.control() #define the controlled-v operation\n",
    "\n",
    "# Trying out the controlled-v gate\n",
    "qc = QuantumCircuit(2)  # Define a quantum circuit\n",
    "qc.append(controlled_v, [0, 1]) #Append the controlled_v gate\n",
    "qc.draw() #Visualize"
   ]
  },
  {
   "cell_type": "markdown",
   "id": "d0a5c5ad",
   "metadata": {},
   "source": [
    "Finally, we are also going to need the controlled-$V^{\\dagger}$"
   ]
  },
  {
   "cell_type": "code",
   "execution_count": 19,
   "id": "b4ea2366",
   "metadata": {},
   "outputs": [
    {
     "name": "stdout",
     "output_type": "stream",
     "text": [
      "     ┌─────────┐\n",
      "q_0: ┤ unitary ├\n",
      "     └─────────┘\n"
     ]
    },
    {
     "data": {
      "text/latex": [
       "$$\n",
       "\n",
       "\\begin{bmatrix}\n",
       "\\tfrac{1}{2}(1 + i) & \\tfrac{1}{2}(1 - i)  \\\\\n",
       " \\tfrac{1}{2}(1 - i) & \\tfrac{1}{2}(1 + i)  \\\\\n",
       " \\end{bmatrix}\n",
       "$$"
      ],
      "text/plain": [
       "<IPython.core.display.Latex object>"
      ]
     },
     "execution_count": 19,
     "metadata": {},
     "output_type": "execute_result"
    }
   ],
   "source": [
    "v_dagger = v.adjoint() #define v-dagger\n",
    "controlled_v_dagger = v_dagger.control() #define the controlled-v-dagger\n",
    "\n",
    "#Trying it out\n",
    "qc = QuantumCircuit(1) #Define a quantum circuit\n",
    "qc.unitary(v_dagger, 0) #implement v-dagger\n",
    "print(qc.draw()) #Visualize\n",
    "\n",
    "#matrix of V-dagger\n",
    "backend = Aer.get_backend('unitary_simulator') #use unitary_simulator as backend\n",
    "job = execute(qc, backend) #create job object\n",
    "result = job.result() #create result object\n",
    "matrix = result.get_unitary() #get the unitary matrix corresponding to the circuit\n",
    "array_to_latex(matrix) #illustrate the matrix"
   ]
  },
  {
   "cell_type": "markdown",
   "id": "b8e3102f",
   "metadata": {},
   "source": [
    "Okay, now let us create our Toffoli gate circuit!"
   ]
  },
  {
   "cell_type": "code",
   "execution_count": 20,
   "id": "ecf0c406",
   "metadata": {},
   "outputs": [
    {
     "name": "stdout",
     "output_type": "stream",
     "text": [
      "                                    \n",
      "q_0: ───────■───────────────■────■──\n",
      "          ┌─┴─┐           ┌─┴─┐  │  \n",
      "q_1: ──■──┤ X ├─────■─────┤ X ├──┼──\n",
      "     ┌─┴─┐└───┘┌────┴────┐└───┘┌─┴─┐\n",
      "q_2: ┤ V ├─────┤ unitary ├─────┤ V ├\n",
      "     └───┘     └─────────┘     └───┘\n"
     ]
    },
    {
     "data": {
      "text/latex": [
       "$$\n",
       "\n",
       "\\begin{bmatrix}\n",
       "1 & 0 & 0 & 0 & 0 & 0 & 0 & 0  \\\\\n",
       " 0 & 1 & 0 & 0 & 0 & 0 & 0 & 0  \\\\\n",
       " 0 & 0 & 1 & 0 & 0 & 0 & 0 & 0  \\\\\n",
       " 0 & 0 & 0 & 0 & 0 & 0 & 0 & 1  \\\\\n",
       " 0 & 0 & 0 & 0 & 1 & 0 & 0 & 0  \\\\\n",
       " 0 & 0 & 0 & 0 & 0 & 1 & 0 & 0  \\\\\n",
       " 0 & 0 & 0 & 0 & 0 & 0 & 1 & 0  \\\\\n",
       " 0 & 0 & 0 & 1 & 0 & 0 & 0 & 0  \\\\\n",
       " \\end{bmatrix}\n",
       "$$"
      ],
      "text/plain": [
       "<IPython.core.display.Latex object>"
      ]
     },
     "execution_count": 20,
     "metadata": {},
     "output_type": "execute_result"
    }
   ],
   "source": [
    "qc = QuantumCircuit(3)  #A Toffoli gate is a 3-qubit gate. So define a 3-qubit quantum circuit\n",
    "qc.append(controlled_v, [1, 2])  #Append your controlled-V operation.\n",
    "qc.cx(0, 1)  #CNOT\n",
    "qc.append(controlled_v_dagger, [1, 2]) #Controlled-V dagger\n",
    "qc.cx(0, 1)  #CNOT\n",
    "qc.append(controlled_v, [0, 2]) #One more controlled-V\n",
    "print(qc.draw()) #Visualize\n",
    "\n",
    "# Let us check to see if we got the right transformation. Let's get the matrix\n",
    "\n",
    "backend = Aer.get_backend('unitary_simulator') #use unitary_simulator as backend\n",
    "job = execute(qc, backend) #create job object\n",
    "result = job.result() #create result object\n",
    "matrix = result.get_unitary() #get the unitary matrix corresponding to the circuit\n",
    "array_to_latex(matrix) #illustrate the matrix"
   ]
  },
  {
   "cell_type": "code",
   "execution_count": 21,
   "id": "ee6b1808",
   "metadata": {},
   "outputs": [
    {
     "name": "stdout",
     "output_type": "stream",
     "text": [
      "          \n",
      "q_0: ──■──\n",
      "       │  \n",
      "q_1: ──■──\n",
      "     ┌─┴─┐\n",
      "q_2: ┤ X ├\n",
      "     └───┘\n"
     ]
    },
    {
     "data": {
      "text/latex": [
       "$$\n",
       "\n",
       "\\begin{bmatrix}\n",
       "1 & 0 & 0 & 0 & 0 & 0 & 0 & 0  \\\\\n",
       " 0 & 1 & 0 & 0 & 0 & 0 & 0 & 0  \\\\\n",
       " 0 & 0 & 1 & 0 & 0 & 0 & 0 & 0  \\\\\n",
       " 0 & 0 & 0 & 0 & 0 & 0 & 0 & 1  \\\\\n",
       " 0 & 0 & 0 & 0 & 1 & 0 & 0 & 0  \\\\\n",
       " 0 & 0 & 0 & 0 & 0 & 1 & 0 & 0  \\\\\n",
       " 0 & 0 & 0 & 0 & 0 & 0 & 1 & 0  \\\\\n",
       " 0 & 0 & 0 & 1 & 0 & 0 & 0 & 0  \\\\\n",
       " \\end{bmatrix}\n",
       "$$"
      ],
      "text/plain": [
       "<IPython.core.display.Latex object>"
      ]
     },
     "execution_count": 21,
     "metadata": {},
     "output_type": "execute_result"
    }
   ],
   "source": [
    "#Let's compare with the matrix of the Toffoli gate\n",
    "\n",
    "qc = QuantumCircuit(3) #Create 3-qubit quantum circuit\n",
    "qc.toffoli(0, 1, 2) # Apply Toffoli gate\n",
    "print(qc.draw()) #Visualize\n",
    "\n",
    "backend = Aer.get_backend('unitary_simulator') #use unitary_simulator as backend\n",
    "job = execute(qc, backend) #create job object\n",
    "result = job.result() #create result object\n",
    "matrix = result.get_unitary() #get the unitary matrix corresponding to the circuit\n",
    "array_to_latex(matrix) #illustrate the matrix"
   ]
  },
  {
   "cell_type": "markdown",
   "id": "80f6e06d",
   "metadata": {},
   "source": [
    "We have the same matrix - it worked!"
   ]
  }
 ],
 "metadata": {
  "kernelspec": {
   "display_name": "Python 3 (ipykernel)",
   "language": "python",
   "name": "python3"
  },
  "language_info": {
   "codemirror_mode": {
    "name": "ipython",
    "version": 3
   },
   "file_extension": ".py",
   "mimetype": "text/x-python",
   "name": "python",
   "nbconvert_exporter": "python",
   "pygments_lexer": "ipython3",
   "version": "3.9.13"
  }
 },
 "nbformat": 4,
 "nbformat_minor": 5
}
