{
 "cells": [
  {
   "cell_type": "code",
   "execution_count": 1,
   "id": "2369691d",
   "metadata": {},
   "outputs": [
    {
     "name": "stdout",
     "output_type": "stream",
     "text": [
      "Requirement already satisfied: qiskit in /Users/abhay/opt/anaconda3/lib/python3.8/site-packages (0.27.0)\n",
      "Requirement already satisfied: qiskit-ibmq-provider==0.14.0 in /Users/abhay/opt/anaconda3/lib/python3.8/site-packages (from qiskit) (0.14.0)\n",
      "Requirement already satisfied: qiskit-terra==0.17.4 in /Users/abhay/opt/anaconda3/lib/python3.8/site-packages (from qiskit) (0.17.4)\n",
      "Requirement already satisfied: qiskit-aqua==0.9.2 in /Users/abhay/opt/anaconda3/lib/python3.8/site-packages (from qiskit) (0.9.2)\n",
      "Requirement already satisfied: qiskit-ignis==0.6.0 in /Users/abhay/opt/anaconda3/lib/python3.8/site-packages (from qiskit) (0.6.0)\n",
      "Requirement already satisfied: qiskit-aer==0.8.2 in /Users/abhay/opt/anaconda3/lib/python3.8/site-packages (from qiskit) (0.8.2)\n",
      "Requirement already satisfied: numpy>=1.16.3 in /Users/abhay/opt/anaconda3/lib/python3.8/site-packages (from qiskit-aer==0.8.2->qiskit) (1.19.5)\n",
      "Requirement already satisfied: scipy>=1.0 in /Users/abhay/opt/anaconda3/lib/python3.8/site-packages (from qiskit-aer==0.8.2->qiskit) (1.6.2)\n",
      "Requirement already satisfied: pybind11>=2.6 in /Users/abhay/opt/anaconda3/lib/python3.8/site-packages (from qiskit-aer==0.8.2->qiskit) (2.6.2)\n",
      "Requirement already satisfied: setuptools>=40.1.0 in /Users/abhay/opt/anaconda3/lib/python3.8/site-packages (from qiskit-aqua==0.9.2->qiskit) (52.0.0.post20210125)\n",
      "Requirement already satisfied: dlx<=1.0.4 in /Users/abhay/opt/anaconda3/lib/python3.8/site-packages (from qiskit-aqua==0.9.2->qiskit) (1.0.4)\n",
      "Requirement already satisfied: quandl in /Users/abhay/opt/anaconda3/lib/python3.8/site-packages (from qiskit-aqua==0.9.2->qiskit) (3.6.1)\n",
      "Requirement already satisfied: h5py in /Users/abhay/opt/anaconda3/lib/python3.8/site-packages (from qiskit-aqua==0.9.2->qiskit) (3.1.0)\n",
      "Requirement already satisfied: docplex==2.15.194 in /Users/abhay/opt/anaconda3/lib/python3.8/site-packages (from qiskit-aqua==0.9.2->qiskit) (2.15.194)\n",
      "Requirement already satisfied: psutil>=5 in /Users/abhay/opt/anaconda3/lib/python3.8/site-packages (from qiskit-aqua==0.9.2->qiskit) (5.8.0)\n",
      "Requirement already satisfied: retworkx>=0.8.0 in /Users/abhay/opt/anaconda3/lib/python3.8/site-packages (from qiskit-aqua==0.9.2->qiskit) (0.9.0)\n",
      "Requirement already satisfied: sympy>=1.3 in /Users/abhay/opt/anaconda3/lib/python3.8/site-packages (from qiskit-aqua==0.9.2->qiskit) (1.8)\n",
      "Requirement already satisfied: pandas in /Users/abhay/opt/anaconda3/lib/python3.8/site-packages (from qiskit-aqua==0.9.2->qiskit) (1.2.4)\n",
      "Requirement already satisfied: scikit-learn>=0.20.0 in /Users/abhay/opt/anaconda3/lib/python3.8/site-packages (from qiskit-aqua==0.9.2->qiskit) (0.24.1)\n",
      "Requirement already satisfied: fastdtw<=0.3.4 in /Users/abhay/opt/anaconda3/lib/python3.8/site-packages (from qiskit-aqua==0.9.2->qiskit) (0.3.4)\n",
      "Requirement already satisfied: yfinance in /Users/abhay/opt/anaconda3/lib/python3.8/site-packages (from qiskit-aqua==0.9.2->qiskit) (0.1.59)\n",
      "Requirement already satisfied: requests in /Users/abhay/opt/anaconda3/lib/python3.8/site-packages (from docplex==2.15.194->qiskit-aqua==0.9.2->qiskit) (2.25.1)\n",
      "Requirement already satisfied: six in /Users/abhay/opt/anaconda3/lib/python3.8/site-packages (from docplex==2.15.194->qiskit-aqua==0.9.2->qiskit) (1.15.0)\n",
      "Requirement already satisfied: urllib3>=1.21.1 in /Users/abhay/opt/anaconda3/lib/python3.8/site-packages (from qiskit-ibmq-provider==0.14.0->qiskit) (1.26.4)\n",
      "Requirement already satisfied: dill>=0.3 in /Users/abhay/opt/anaconda3/lib/python3.8/site-packages (from qiskit-ibmq-provider==0.14.0->qiskit) (0.3.4)\n",
      "Requirement already satisfied: requests-ntlm>=1.1.0 in /Users/abhay/opt/anaconda3/lib/python3.8/site-packages (from qiskit-ibmq-provider==0.14.0->qiskit) (1.1.0)\n",
      "Requirement already satisfied: python-dateutil>=2.8.0 in /Users/abhay/opt/anaconda3/lib/python3.8/site-packages (from qiskit-ibmq-provider==0.14.0->qiskit) (2.8.1)\n",
      "Requirement already satisfied: websocket-client>=1.0.1 in /Users/abhay/opt/anaconda3/lib/python3.8/site-packages (from qiskit-ibmq-provider==0.14.0->qiskit) (1.1.0)\n",
      "Requirement already satisfied: fastjsonschema>=2.10 in /Users/abhay/opt/anaconda3/lib/python3.8/site-packages (from qiskit-terra==0.17.4->qiskit) (2.15.1)\n",
      "Requirement already satisfied: jsonschema>=2.6 in /Users/abhay/opt/anaconda3/lib/python3.8/site-packages (from qiskit-terra==0.17.4->qiskit) (3.2.0)\n",
      "Requirement already satisfied: python-constraint>=1.4 in /Users/abhay/opt/anaconda3/lib/python3.8/site-packages (from qiskit-terra==0.17.4->qiskit) (1.4.0)\n",
      "Requirement already satisfied: ply>=3.10 in /Users/abhay/opt/anaconda3/lib/python3.8/site-packages (from qiskit-terra==0.17.4->qiskit) (3.11)\n",
      "Requirement already satisfied: attrs>=17.4.0 in /Users/abhay/opt/anaconda3/lib/python3.8/site-packages (from jsonschema>=2.6->qiskit-terra==0.17.4->qiskit) (20.3.0)\n",
      "Requirement already satisfied: pyrsistent>=0.14.0 in /Users/abhay/opt/anaconda3/lib/python3.8/site-packages (from jsonschema>=2.6->qiskit-terra==0.17.4->qiskit) (0.17.3)\n",
      "Requirement already satisfied: idna<3,>=2.5 in /Users/abhay/opt/anaconda3/lib/python3.8/site-packages (from requests->docplex==2.15.194->qiskit-aqua==0.9.2->qiskit) (2.10)\n",
      "Requirement already satisfied: certifi>=2017.4.17 in /Users/abhay/opt/anaconda3/lib/python3.8/site-packages (from requests->docplex==2.15.194->qiskit-aqua==0.9.2->qiskit) (2020.12.5)\n",
      "Requirement already satisfied: chardet<5,>=3.0.2 in /Users/abhay/opt/anaconda3/lib/python3.8/site-packages (from requests->docplex==2.15.194->qiskit-aqua==0.9.2->qiskit) (4.0.0)\n",
      "Requirement already satisfied: cryptography>=1.3 in /Users/abhay/opt/anaconda3/lib/python3.8/site-packages (from requests-ntlm>=1.1.0->qiskit-ibmq-provider==0.14.0->qiskit) (3.4.7)\n",
      "Requirement already satisfied: ntlm-auth>=1.0.2 in /Users/abhay/opt/anaconda3/lib/python3.8/site-packages (from requests-ntlm>=1.1.0->qiskit-ibmq-provider==0.14.0->qiskit) (1.5.0)\n",
      "Requirement already satisfied: cffi>=1.12 in /Users/abhay/opt/anaconda3/lib/python3.8/site-packages (from cryptography>=1.3->requests-ntlm>=1.1.0->qiskit-ibmq-provider==0.14.0->qiskit) (1.14.5)\n",
      "Requirement already satisfied: pycparser in /Users/abhay/opt/anaconda3/lib/python3.8/site-packages (from cffi>=1.12->cryptography>=1.3->requests-ntlm>=1.1.0->qiskit-ibmq-provider==0.14.0->qiskit) (2.20)\n",
      "Requirement already satisfied: joblib>=0.11 in /Users/abhay/opt/anaconda3/lib/python3.8/site-packages (from scikit-learn>=0.20.0->qiskit-aqua==0.9.2->qiskit) (1.0.1)\n",
      "Requirement already satisfied: threadpoolctl>=2.0.0 in /Users/abhay/opt/anaconda3/lib/python3.8/site-packages (from scikit-learn>=0.20.0->qiskit-aqua==0.9.2->qiskit) (2.1.0)\n",
      "Requirement already satisfied: mpmath>=0.19 in /Users/abhay/opt/anaconda3/lib/python3.8/site-packages (from sympy>=1.3->qiskit-aqua==0.9.2->qiskit) (1.2.1)\n",
      "Requirement already satisfied: pytz>=2017.3 in /Users/abhay/opt/anaconda3/lib/python3.8/site-packages (from pandas->qiskit-aqua==0.9.2->qiskit) (2021.1)\n",
      "Requirement already satisfied: more-itertools in /Users/abhay/opt/anaconda3/lib/python3.8/site-packages (from quandl->qiskit-aqua==0.9.2->qiskit) (8.7.0)\n",
      "Requirement already satisfied: inflection>=0.3.1 in /Users/abhay/opt/anaconda3/lib/python3.8/site-packages (from quandl->qiskit-aqua==0.9.2->qiskit) (0.5.1)\n",
      "Requirement already satisfied: multitasking>=0.0.7 in /Users/abhay/opt/anaconda3/lib/python3.8/site-packages (from yfinance->qiskit-aqua==0.9.2->qiskit) (0.0.9)\n",
      "Requirement already satisfied: lxml>=4.5.1 in /Users/abhay/opt/anaconda3/lib/python3.8/site-packages (from yfinance->qiskit-aqua==0.9.2->qiskit) (4.6.3)\n",
      "Requirement already satisfied: qiskit-ionq in /Users/abhay/opt/anaconda3/lib/python3.8/site-packages (0.1.4)\n",
      "Requirement already satisfied: requests>=2.24.0 in /Users/abhay/opt/anaconda3/lib/python3.8/site-packages (from qiskit-ionq) (2.25.1)\n",
      "Requirement already satisfied: qiskit-terra>=0.17.4 in /Users/abhay/opt/anaconda3/lib/python3.8/site-packages (from qiskit-ionq) (0.17.4)\n",
      "Requirement already satisfied: python-constraint>=1.4 in /Users/abhay/opt/anaconda3/lib/python3.8/site-packages (from qiskit-terra>=0.17.4->qiskit-ionq) (1.4.0)\n",
      "Requirement already satisfied: sympy>=1.3 in /Users/abhay/opt/anaconda3/lib/python3.8/site-packages (from qiskit-terra>=0.17.4->qiskit-ionq) (1.8)\n",
      "Requirement already satisfied: psutil>=5 in /Users/abhay/opt/anaconda3/lib/python3.8/site-packages (from qiskit-terra>=0.17.4->qiskit-ionq) (5.8.0)\n",
      "Requirement already satisfied: python-dateutil>=2.8.0 in /Users/abhay/opt/anaconda3/lib/python3.8/site-packages (from qiskit-terra>=0.17.4->qiskit-ionq) (2.8.1)\n",
      "Requirement already satisfied: jsonschema>=2.6 in /Users/abhay/opt/anaconda3/lib/python3.8/site-packages (from qiskit-terra>=0.17.4->qiskit-ionq) (3.2.0)\n",
      "Requirement already satisfied: numpy>=1.17 in /Users/abhay/opt/anaconda3/lib/python3.8/site-packages (from qiskit-terra>=0.17.4->qiskit-ionq) (1.19.5)\n",
      "Requirement already satisfied: fastjsonschema>=2.10 in /Users/abhay/opt/anaconda3/lib/python3.8/site-packages (from qiskit-terra>=0.17.4->qiskit-ionq) (2.15.1)\n",
      "Requirement already satisfied: retworkx>=0.8.0 in /Users/abhay/opt/anaconda3/lib/python3.8/site-packages (from qiskit-terra>=0.17.4->qiskit-ionq) (0.9.0)\n",
      "Requirement already satisfied: ply>=3.10 in /Users/abhay/opt/anaconda3/lib/python3.8/site-packages (from qiskit-terra>=0.17.4->qiskit-ionq) (3.11)\n",
      "Requirement already satisfied: dill>=0.3 in /Users/abhay/opt/anaconda3/lib/python3.8/site-packages (from qiskit-terra>=0.17.4->qiskit-ionq) (0.3.4)\n",
      "Requirement already satisfied: scipy>=1.4 in /Users/abhay/opt/anaconda3/lib/python3.8/site-packages (from qiskit-terra>=0.17.4->qiskit-ionq) (1.6.2)\n"
     ]
    },
    {
     "name": "stdout",
     "output_type": "stream",
     "text": [
      "Requirement already satisfied: pyrsistent>=0.14.0 in /Users/abhay/opt/anaconda3/lib/python3.8/site-packages (from jsonschema>=2.6->qiskit-terra>=0.17.4->qiskit-ionq) (0.17.3)\n",
      "Requirement already satisfied: setuptools in /Users/abhay/opt/anaconda3/lib/python3.8/site-packages (from jsonschema>=2.6->qiskit-terra>=0.17.4->qiskit-ionq) (52.0.0.post20210125)\n",
      "Requirement already satisfied: attrs>=17.4.0 in /Users/abhay/opt/anaconda3/lib/python3.8/site-packages (from jsonschema>=2.6->qiskit-terra>=0.17.4->qiskit-ionq) (20.3.0)\n",
      "Requirement already satisfied: six>=1.11.0 in /Users/abhay/opt/anaconda3/lib/python3.8/site-packages (from jsonschema>=2.6->qiskit-terra>=0.17.4->qiskit-ionq) (1.15.0)\n",
      "Requirement already satisfied: urllib3<1.27,>=1.21.1 in /Users/abhay/opt/anaconda3/lib/python3.8/site-packages (from requests>=2.24.0->qiskit-ionq) (1.26.4)\n",
      "Requirement already satisfied: chardet<5,>=3.0.2 in /Users/abhay/opt/anaconda3/lib/python3.8/site-packages (from requests>=2.24.0->qiskit-ionq) (4.0.0)\n",
      "Requirement already satisfied: certifi>=2017.4.17 in /Users/abhay/opt/anaconda3/lib/python3.8/site-packages (from requests>=2.24.0->qiskit-ionq) (2020.12.5)\n",
      "Requirement already satisfied: idna<3,>=2.5 in /Users/abhay/opt/anaconda3/lib/python3.8/site-packages (from requests>=2.24.0->qiskit-ionq) (2.10)\n",
      "Requirement already satisfied: mpmath>=0.19 in /Users/abhay/opt/anaconda3/lib/python3.8/site-packages (from sympy>=1.3->qiskit-terra>=0.17.4->qiskit-ionq) (1.2.1)\n"
     ]
    }
   ],
   "source": [
    "#install qiskit if you have to\n",
    "#install qiskit-ionq if you have to"
   ]
  },
  {
   "cell_type": "code",
   "execution_count": 2,
   "id": "1ec483e1",
   "metadata": {},
   "outputs": [],
   "source": [
    "#import IonQ backends\n",
    "\n",
    "#Import other qiskit requirements\n"
   ]
  },
  {
   "cell_type": "markdown",
   "id": "7cf00c0a",
   "metadata": {},
   "source": [
    "### Question 1 : Implementing CNOT (Simulator vs. Hardware)\n",
    "\n",
    "(i) Implement a simple quantum circuit with one CNOT gate and plot a histogram of the execution results\n",
    "(ii) Repeat part (i), but use IonQ hardware, and observe the differences in the histogram\n",
    "(iii) Now implement a quantum circuit with a CNOT gate that is activated when the control is in the state $\\left| 0 \\right>$ "
   ]
  },
  {
   "cell_type": "code",
   "execution_count": 3,
   "id": "d13d50ba",
   "metadata": {},
   "outputs": [
    {
     "data": {
      "text/html": [
       "<pre style=\"word-wrap: normal;white-space: pre;background: #fff0;line-height: 1.1;font-family: &quot;Courier New&quot;,Courier,monospace\">          ┌─┐   \n",
       "q_0: ──■──┤M├───\n",
       "     ┌─┴─┐└╥┘┌─┐\n",
       "q_1: ┤ X ├─╫─┤M├\n",
       "     └───┘ ║ └╥┘\n",
       "c: 2/══════╩══╩═\n",
       "           0  1 </pre>"
      ],
      "text/plain": [
       "          ┌─┐   \n",
       "q_0: ──■──┤M├───\n",
       "     ┌─┴─┐└╥┘┌─┐\n",
       "q_1: ┤ X ├─╫─┤M├\n",
       "     └───┘ ║ └╥┘\n",
       "c: 2/══════╩══╩═\n",
       "           0  1 "
      ]
     },
     "execution_count": 3,
     "metadata": {},
     "output_type": "execute_result"
    }
   ],
   "source": [
    "#Instantiate a circuit with two qubits and two classical bits\n",
    "# Apply the CNOT gate with control qubit 0 and target qubit 1\n",
    "\n",
    "# Measure all the qubits\n",
    "\n",
    "    \n",
    "#Draw the circuit to visualize it "
   ]
  },
  {
   "cell_type": "code",
   "execution_count": 4,
   "id": "298655fe",
   "metadata": {},
   "outputs": [
    {
     "data": {
      "image/png": "[encoded data removed]",
      "text/plain": [
       "<Figure size 504x360 with 1 Axes>"
      ]
     },
     "execution_count": 4,
     "metadata": {},
     "output_type": "execute_result"
    }
   ],
   "source": [
    "#choose your backend\n",
    "#create the job object\n",
    "#create the result object\n",
    "#get the counts dictionary\n",
    "#plot the histogram of counts"
   ]
  },
  {
   "cell_type": "markdown",
   "id": "d1d06286",
   "metadata": {},
   "source": [
    "This result makes sense : the control bit was in the state $\\left| 0 \\right>$, and therefore the target bit, which was in the state $\\left| 0 \\right>$ did not change. Now, let us run the circuit on IonQ hardware and see what happens"
   ]
  },
  {
   "cell_type": "code",
   "execution_count": 5,
   "id": "ab72e5b8",
   "metadata": {},
   "outputs": [
    {
     "name": "stderr",
     "output_type": "stream",
     "text": [
      "/Users/abhay/opt/anaconda3/lib/python3.8/site-packages/qiskit/execute_function.py:343: UserWarning: Option parameter_binds is not used by this backend\n",
      "  job = backend.run(experiments, **run_kwargs)\n"
     ]
    },
    {
     "name": "stdout",
     "output_type": "stream",
     "text": [
      "Job status is JobStatus.INITIALIZING\n",
      "Job status is JobStatus.QUEUED\n",
      "Job status is JobStatus.QUEUED\n",
      "Job status is JobStatus.QUEUED\n",
      "Job status is JobStatus.QUEUED\n",
      "Job status is JobStatus.QUEUED\n",
      "Job status is JobStatus.QUEUED\n",
      "Job status is JobStatus.QUEUED\n",
      "Job status is JobStatus.QUEUED\n",
      "Job status is JobStatus.QUEUED\n",
      "Job status is JobStatus.QUEUED\n",
      "Job status is JobStatus.QUEUED\n",
      "Job status is JobStatus.QUEUED\n",
      "Job status is JobStatus.QUEUED\n"
     ]
    },
    {
     "data": {
      "image/png": "[encoded data removed]",
      "text/plain": [
       "<Figure size 504x360 with 1 Axes>"
      ]
     },
     "execution_count": 5,
     "metadata": {},
     "output_type": "execute_result"
    }
   ],
   "source": [
    "#choose your backend\n",
    "#get the job objecct\n",
    "\n",
    "# check if job is complete\n",
    "    \n",
    "# get result object\n",
    "#get the counts dictionary\n",
    "#plot the histogram of the counts    "
   ]
  },
  {
   "cell_type": "markdown",
   "id": "dab82fe9",
   "metadata": {},
   "source": [
    "So this time, we have some occurrences of the wrong results in the histogram. We should have ideally received all bit strings in the state $\\left| 00 \\right>$. But we have occurrences of other bit strings as well. This is because of errors in the quantum computer. Now, we haven't received too many occurrences of other bit strings, and that is because IonQ's quantum computers have very high fidelities - low error."
   ]
  },
  {
   "cell_type": "markdown",
   "id": "3266a688",
   "metadata": {},
   "source": [
    "Finally, we need to make a CNOT gate that gets activated when the control bit is in the state $\\left| 0 \\right>$. How can we do this? Well, our traditional CNOT gate gets activated when the control qubit is in the state $\\left| 1 \\right>$. What if we add an $X$ gate before the CNOT gate in the path of the control qubit? What this will do is \n",
    "\n",
    "- change the $\\left| 0 \\right>$ state to the $\\left| 1 \\right>$ state, which will then activate the regular CNOT gate. So the state $\\left| 0 \\right>$ will effectively activate the CNOT gate.\n",
    "\n",
    "- change the $\\left| 1 \\right>$ state to the $\\left 0 \\right>$ state, which will then not activate the regular CNOT gate. So the $\\left| 1 \\right>$ state will not activate the CNOT gate anymore.\n",
    "\n",
    "Finally, we will have to undo the effect of the $X$ gate that we will apply. So we will need to add an $X$ gate at the end.\n",
    "\n",
    "Okay, let us try it!"
   ]
  },
  {
   "cell_type": "code",
   "execution_count": 12,
   "id": "5436ffd4",
   "metadata": {},
   "outputs": [
    {
     "data": {
      "text/html": [
       "<pre style=\"word-wrap: normal;white-space: pre;background: #fff0;line-height: 1.1;font-family: &quot;Courier New&quot;,Courier,monospace\">     ┌───┐     ┌───┐\n",
       "q_0: ┤ X ├──■──┤ X ├\n",
       "     └───┘┌─┴─┐└───┘\n",
       "q_1: ─────┤ X ├─────\n",
       "          └───┘     </pre>"
      ],
      "text/plain": [
       "     ┌───┐     ┌───┐\n",
       "q_0: ┤ X ├──■──┤ X ├\n",
       "     └───┘┌─┴─┐└───┘\n",
       "q_1: ─────┤ X ├─────\n",
       "          └───┘     "
      ]
     },
     "execution_count": 12,
     "metadata": {},
     "output_type": "execute_result"
    }
   ],
   "source": [
    "# First we will create our very own, new quantum gate\n",
    "\n",
    "#Our gate is a two-qubit gate, so initialize a two-qubit quantum circuit\n",
    "#our gate has a NOT gate\n",
    "#our gate then has a CNOT gate\n",
    "#then we have a NOT gate\n",
    "#visualize"
   ]
  },
  {
   "cell_type": "code",
   "execution_count": 13,
   "id": "03923631",
   "metadata": {},
   "outputs": [
    {
     "data": {
      "text/plain": [
       "qiskit.circuit.gate.Gate"
      ]
     },
     "execution_count": 13,
     "metadata": {},
     "output_type": "execute_result"
    }
   ],
   "source": [
    "#convert your circuit to a gate\n"
   ]
  },
  {
   "cell_type": "code",
   "execution_count": 14,
   "id": "812bfaea",
   "metadata": {},
   "outputs": [
    {
     "data": {
      "text/html": [
       "<pre style=\"word-wrap: normal;white-space: pre;background: #fff0;line-height: 1.1;font-family: &quot;Courier New&quot;,Courier,monospace\">     ┌─────────────┐┌─┐   \n",
       "q_0: ┤0            ├┤M├───\n",
       "     │  circuit-95 │└╥┘┌─┐\n",
       "q_1: ┤1            ├─╫─┤M├\n",
       "     └─────────────┘ ║ └╥┘\n",
       "c: 2/════════════════╩══╩═\n",
       "                     0  1 </pre>"
      ],
      "text/plain": [
       "     ┌─────────────┐┌─┐   \n",
       "q_0: ┤0            ├┤M├───\n",
       "     │  circuit-95 │└╥┘┌─┐\n",
       "q_1: ┤1            ├─╫─┤M├\n",
       "     └─────────────┘ ║ └╥┘\n",
       "c: 2/════════════════╩══╩═\n",
       "                     0  1 "
      ]
     },
     "execution_count": 14,
     "metadata": {},
     "output_type": "execute_result"
    }
   ],
   "source": [
    "#Instantiate a circuit with two qubits and two classical bits\n",
    "# Apply your special CNOT gate with control qubit 0 and target qubit 1\n",
    " \n",
    "# Measure all the qubits\n",
    "\n",
    "    \n",
    "#Draw the circuit to visualize it "
   ]
  },
  {
   "cell_type": "code",
   "execution_count": 15,
   "id": "8c22d9c4",
   "metadata": {},
   "outputs": [
    {
     "data": {
      "image/png": "[encoded data removed]",
      "text/plain": [
       "<Figure size 504x360 with 1 Axes>"
      ]
     },
     "execution_count": 15,
     "metadata": {},
     "output_type": "execute_result"
    }
   ],
   "source": [
    "#choose your backend\n",
    "#create the job object\n",
    "#create the result object\n",
    "#get the counts dictionary\n",
    "#plot the histogram of counts"
   ]
  },
  {
   "cell_type": "markdown",
   "id": "608ccb05",
   "metadata": {},
   "source": [
    "This is the expected result. The bit string displayed in the histogram should be interpreted as the state $\\left| 01 \\right>$.\n",
    "\n",
    "Now, let us move on to question 2."
   ]
  },
  {
   "cell_type": "markdown",
   "id": "90057ade",
   "metadata": {},
   "source": [
    "### Question 2\n",
    "\n",
    "Implement a Toffoli gate by creating a gate $V = \\frac{1-i}{2}(I + iX)$, and then implementing the circuit from lecture."
   ]
  },
  {
   "cell_type": "code",
   "execution_count": 17,
   "id": "e78b0868",
   "metadata": {},
   "outputs": [
    {
     "name": "stdout",
     "output_type": "stream",
     "text": [
      "     ┌─────────┐\n",
      "q_0: ┤ unitary ├\n",
      "     └─────────┘\n"
     ]
    },
    {
     "data": {
      "text/latex": [
       "$$\n",
       "\n",
       "\\begin{bmatrix}\n",
       "\\tfrac{1}{2}(1 - i) & \\tfrac{1}{2}(1 + i)  \\\\\n",
       " \\tfrac{1}{2}(1 + i) & \\tfrac{1}{2}(1 - i)  \\\\\n",
       " \\end{bmatrix}\n",
       "$$"
      ],
      "text/plain": [
       "<IPython.core.display.Latex object>"
      ]
     },
     "execution_count": 17,
     "metadata": {},
     "output_type": "execute_result"
    }
   ],
   "source": [
    "#First we will create the V gate\n",
    "\n",
    "#enter the matrix of the V-gate\n",
    "\n",
    "\n",
    "#Defining V\n",
    "\n",
    "#Trying out our V-gate\n",
    "#Initialise Quantum Circuit \n",
    "# Act unitary on circuit\n",
    "#Visualize circuit\n",
    "\n",
    "#matrix of V-gate\n",
    "#use unitary_simulator as backend\n",
    "#create job object\n",
    "#create result object\n",
    "#get the unitary matrix corresponding to the circuit\n",
    "#illustrate the matrix"
   ]
  },
  {
   "cell_type": "markdown",
   "id": "84950719",
   "metadata": {},
   "source": [
    "Okay, it's good that we defined the $V$ gate. But we actually need the controlled-$V$ gate"
   ]
  },
  {
   "cell_type": "code",
   "execution_count": 18,
   "id": "83519709",
   "metadata": {},
   "outputs": [
    {
     "data": {
      "text/html": [
       "<pre style=\"word-wrap: normal;white-space: pre;background: #fff0;line-height: 1.1;font-family: &quot;Courier New&quot;,Courier,monospace\">          \n",
       "q_0: ──■──\n",
       "     ┌─┴─┐\n",
       "q_1: ┤ V ├\n",
       "     └───┘</pre>"
      ],
      "text/plain": [
       "          \n",
       "q_0: ──■──\n",
       "     ┌─┴─┐\n",
       "q_1: ┤ V ├\n",
       "     └───┘"
      ]
     },
     "execution_count": 18,
     "metadata": {},
     "output_type": "execute_result"
    }
   ],
   "source": [
    "#define the controlled-v operation\n",
    "\n",
    "# Trying out the controlled-v gate\n",
    "# Define a quantum circuit\n",
    "#Append the controlled_v gate\n",
    "#Visualize"
   ]
  },
  {
   "cell_type": "markdown",
   "id": "d0a5c5ad",
   "metadata": {},
   "source": [
    "Finally, we are also going to need the controlled-$V^{\\dagger}$"
   ]
  },
  {
   "cell_type": "code",
   "execution_count": 19,
   "id": "b4ea2366",
   "metadata": {},
   "outputs": [
    {
     "name": "stdout",
     "output_type": "stream",
     "text": [
      "     ┌─────────┐\n",
      "q_0: ┤ unitary ├\n",
      "     └─────────┘\n"
     ]
    },
    {
     "data": {
      "text/latex": [
       "$$\n",
       "\n",
       "\\begin{bmatrix}\n",
       "\\tfrac{1}{2}(1 + i) & \\tfrac{1}{2}(1 - i)  \\\\\n",
       " \\tfrac{1}{2}(1 - i) & \\tfrac{1}{2}(1 + i)  \\\\\n",
       " \\end{bmatrix}\n",
       "$$"
      ],
      "text/plain": [
       "<IPython.core.display.Latex object>"
      ]
     },
     "execution_count": 19,
     "metadata": {},
     "output_type": "execute_result"
    }
   ],
   "source": [
    "#define v-dagger\n",
    "#define the controlled-v-dagger\n",
    "\n",
    "#Trying it out\n",
    "#Define a quantum circuit\n",
    "#implement v-dagger\n",
    "#Visualize\n",
    "\n",
    "#matrix of V-dagger\n",
    "#use unitary_simulator as backend\n",
    "#create job object\n",
    "#create result object\n",
    "#get the unitary matrix corresponding to the circuit\n",
    "#illustrate the matrix"
   ]
  },
  {
   "cell_type": "markdown",
   "id": "b8e3102f",
   "metadata": {},
   "source": [
    "Okay, now let us create our Toffoli gate circuit!"
   ]
  },
  {
   "cell_type": "code",
   "execution_count": 20,
   "id": "ecf0c406",
   "metadata": {},
   "outputs": [
    {
     "name": "stdout",
     "output_type": "stream",
     "text": [
      "                                    \n",
      "q_0: ───────■───────────────■────■──\n",
      "          ┌─┴─┐           ┌─┴─┐  │  \n",
      "q_1: ──■──┤ X ├─────■─────┤ X ├──┼──\n",
      "     ┌─┴─┐└───┘┌────┴────┐└───┘┌─┴─┐\n",
      "q_2: ┤ V ├─────┤ unitary ├─────┤ V ├\n",
      "     └───┘     └─────────┘     └───┘\n"
     ]
    },
    {
     "data": {
      "text/latex": [
       "$$\n",
       "\n",
       "\\begin{bmatrix}\n",
       "1 & 0 & 0 & 0 & 0 & 0 & 0 & 0  \\\\\n",
       " 0 & 1 & 0 & 0 & 0 & 0 & 0 & 0  \\\\\n",
       " 0 & 0 & 1 & 0 & 0 & 0 & 0 & 0  \\\\\n",
       " 0 & 0 & 0 & 0 & 0 & 0 & 0 & 1  \\\\\n",
       " 0 & 0 & 0 & 0 & 1 & 0 & 0 & 0  \\\\\n",
       " 0 & 0 & 0 & 0 & 0 & 1 & 0 & 0  \\\\\n",
       " 0 & 0 & 0 & 0 & 0 & 0 & 1 & 0  \\\\\n",
       " 0 & 0 & 0 & 1 & 0 & 0 & 0 & 0  \\\\\n",
       " \\end{bmatrix}\n",
       "$$"
      ],
      "text/plain": [
       "<IPython.core.display.Latex object>"
      ]
     },
     "execution_count": 20,
     "metadata": {},
     "output_type": "execute_result"
    }
   ],
   "source": [
    "#A Toffoli gate is a 3-qubit gate. So define a 3-qubit quantum circuit\n",
    "#Append your controlled-V operation.\n",
    "#CNOT\n",
    "#Controlled-V dagger\n",
    "#CNOT\n",
    "#One more controlled-V\n",
    "#Visualize\n",
    "\n",
    "# Let us check to see if we got the right transformation. Let's get the matrix\n",
    "\n",
    "#use unitary_simulator as backend\n",
    "#create job object\n",
    "#create result object\n",
    "#get the unitary matrix corresponding to the circuit\n",
    "#illustrate the matrix"
   ]
  },
  {
   "cell_type": "code",
   "execution_count": 21,
   "id": "ee6b1808",
   "metadata": {},
   "outputs": [
    {
     "name": "stdout",
     "output_type": "stream",
     "text": [
      "          \n",
      "q_0: ──■──\n",
      "       │  \n",
      "q_1: ──■──\n",
      "     ┌─┴─┐\n",
      "q_2: ┤ X ├\n",
      "     └───┘\n"
     ]
    },
    {
     "data": {
      "text/latex": [
       "$$\n",
       "\n",
       "\\begin{bmatrix}\n",
       "1 & 0 & 0 & 0 & 0 & 0 & 0 & 0  \\\\\n",
       " 0 & 1 & 0 & 0 & 0 & 0 & 0 & 0  \\\\\n",
       " 0 & 0 & 1 & 0 & 0 & 0 & 0 & 0  \\\\\n",
       " 0 & 0 & 0 & 0 & 0 & 0 & 0 & 1  \\\\\n",
       " 0 & 0 & 0 & 0 & 1 & 0 & 0 & 0  \\\\\n",
       " 0 & 0 & 0 & 0 & 0 & 1 & 0 & 0  \\\\\n",
       " 0 & 0 & 0 & 0 & 0 & 0 & 1 & 0  \\\\\n",
       " 0 & 0 & 0 & 1 & 0 & 0 & 0 & 0  \\\\\n",
       " \\end{bmatrix}\n",
       "$$"
      ],
      "text/plain": [
       "<IPython.core.display.Latex object>"
      ]
     },
     "execution_count": 21,
     "metadata": {},
     "output_type": "execute_result"
    }
   ],
   "source": [
    "#Let's compare with the matrix of the Toffoli gate\n",
    "\n",
    "#Create 3-qubit quantum circuit\n",
    "# Apply Toffoli gate\n",
    "#Visualize\n",
    "\n",
    "#use unitary_simulator as backend\n",
    "#create job object\n",
    "#create result object\n",
    "#get the unitary matrix corresponding to the circuit\n",
    "#illustrate the matrix"
   ]
  },
  {
   "cell_type": "markdown",
   "id": "80f6e06d",
   "metadata": {},
   "source": [
    "We have the same matrix - it worked!"
   ]
  }
 ],
 "metadata": {
  "kernelspec": {
   "display_name": "Python 3 (ipykernel)",
   "language": "python",
   "name": "python3"
  },
  "language_info": {
   "codemirror_mode": {
    "name": "ipython",
    "version": 3
   },
   "file_extension": ".py",
   "mimetype": "text/x-python",
   "name": "python",
   "nbconvert_exporter": "python",
   "pygments_lexer": "ipython3",
   "version": "3.9.10"
  }
 },
 "nbformat": 4,
 "nbformat_minor": 5
}
